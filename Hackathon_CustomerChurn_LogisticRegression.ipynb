{
 "cells": [
  {
   "cell_type": "markdown",
   "metadata": {},
   "source": [
    "## Hackathon (Problem statement)"
   ]
  },
  {
   "cell_type": "markdown",
   "metadata": {},
   "source": [
    "## Done By: Hardik Raja (https://github.com/hardiksraja)"
   ]
  },
  {
   "cell_type": "markdown",
   "metadata": {},
   "source": [
    "#### Binary Customer Churn\n",
    "\n",
    "#### A marketing agency has many customers that use their service to produce ads for the client/customer websites. They've noticed that they have quite a bit of churn in clients. They basically randomly assign account managers right now, but want you to create a machine learning model that will help predict which customers will churn (stop buying their service) so that they can correctly assign the customers most at risk to churn an account manager. Luckily they have some historical data, can you help them out? Create a classification algorithm that will help classify whether or not a customer churned. Then the company can test this against incoming data for future customers to predict which customers will churn and assign them an account manager.\n"
   ]
  },
  {
   "cell_type": "code",
   "execution_count": 190,
   "metadata": {},
   "outputs": [],
   "source": [
    "#Importing all libraries\n",
    "import numpy as np\n",
    "import pandas as pd\n",
    "import matplotlib.pyplot as plt\n",
    "import seaborn as sns\n",
    "%matplotlib inline\n",
    "\n",
    "from sklearn.linear_model import LogisticRegression\n",
    "from sklearn.model_selection import train_test_split\n",
    "from sklearn.metrics import mean_squared_error,r2_score\n",
    "import statsmodels.formula.api as smf\n",
    "from sklearn.metrics import confusion_matrix\n",
    "from sklearn.preprocessing import LabelEncoder\n",
    "from sklearn.metrics import roc_auc_score, roc_curve, auc, precision_score, recall_score, f1_score, confusion_matrix, accuracy_score\n",
    "from sklearn.metrics import classification_report\n",
    "from sklearn.model_selection import cross_val_score\n",
    "import time\n",
    "import warnings\n",
    "warnings.simplefilter('ignore')\n",
    "from sklearn import metrics"
   ]
  },
  {
   "cell_type": "code",
   "execution_count": 155,
   "metadata": {},
   "outputs": [],
   "source": [
    "#Read the CSV File\n",
    "df_train = pd.read_csv(\"D:\\\\Aegis\\\\PPT_StudyMaterial_new\\\\Hackathon\\\\customer_churn.csv\")\n",
    "df_test = pd.read_csv(\"D:\\\\Aegis\\\\PPT_StudyMaterial_new\\\\Hackathon\\\\new_customers.csv\")"
   ]
  },
  {
   "cell_type": "markdown",
   "metadata": {},
   "source": [
    "# 1. Performing EDA - Exploratory Data Analysis"
   ]
  },
  {
   "cell_type": "code",
   "execution_count": 26,
   "metadata": {},
   "outputs": [
    {
     "data": {
      "text/plain": [
       "((900, 10), (6, 9))"
      ]
     },
     "execution_count": 26,
     "metadata": {},
     "output_type": "execute_result"
    }
   ],
   "source": [
    "df_train.shape, df_test.shape"
   ]
  },
  {
   "cell_type": "code",
   "execution_count": 27,
   "metadata": {},
   "outputs": [
    {
     "data": {
      "text/plain": [
       "(Index(['Names', 'Age', 'Total_Purchase', 'Account_Manager', 'Years',\n",
       "        'Num_Sites', 'Onboard_date', 'Location', 'Company', 'Churn'],\n",
       "       dtype='object'),\n",
       " Index(['Names', 'Age', 'Total_Purchase', 'Account_Manager', 'Years',\n",
       "        'Num_Sites', 'Onboard_date', 'Location', 'Company'],\n",
       "       dtype='object'))"
      ]
     },
     "execution_count": 27,
     "metadata": {},
     "output_type": "execute_result"
    }
   ],
   "source": [
    "df_train.columns, df_test.columns"
   ]
  },
  {
   "cell_type": "code",
   "execution_count": 28,
   "metadata": {},
   "outputs": [
    {
     "data": {
      "text/html": [
       "<div>\n",
       "<style scoped>\n",
       "    .dataframe tbody tr th:only-of-type {\n",
       "        vertical-align: middle;\n",
       "    }\n",
       "\n",
       "    .dataframe tbody tr th {\n",
       "        vertical-align: top;\n",
       "    }\n",
       "\n",
       "    .dataframe thead th {\n",
       "        text-align: right;\n",
       "    }\n",
       "</style>\n",
       "<table border=\"1\" class=\"dataframe\">\n",
       "  <thead>\n",
       "    <tr style=\"text-align: right;\">\n",
       "      <th></th>\n",
       "      <th>Names</th>\n",
       "      <th>Age</th>\n",
       "      <th>Total_Purchase</th>\n",
       "      <th>Account_Manager</th>\n",
       "      <th>Years</th>\n",
       "      <th>Num_Sites</th>\n",
       "      <th>Onboard_date</th>\n",
       "      <th>Location</th>\n",
       "      <th>Company</th>\n",
       "      <th>Churn</th>\n",
       "    </tr>\n",
       "  </thead>\n",
       "  <tbody>\n",
       "    <tr>\n",
       "      <th>0</th>\n",
       "      <td>Cameron Williams</td>\n",
       "      <td>42</td>\n",
       "      <td>11066.80</td>\n",
       "      <td>0</td>\n",
       "      <td>7.22</td>\n",
       "      <td>8</td>\n",
       "      <td>30-08-2013 07:00</td>\n",
       "      <td>10265 Elizabeth Mission Barkerburgh, AK 89518</td>\n",
       "      <td>Harvey LLC</td>\n",
       "      <td>1</td>\n",
       "    </tr>\n",
       "    <tr>\n",
       "      <th>1</th>\n",
       "      <td>Kevin Mueller</td>\n",
       "      <td>41</td>\n",
       "      <td>11916.22</td>\n",
       "      <td>0</td>\n",
       "      <td>6.50</td>\n",
       "      <td>11</td>\n",
       "      <td>13-08-2013 00:38</td>\n",
       "      <td>6157 Frank Gardens Suite 019 Carloshaven, RI 1...</td>\n",
       "      <td>Wilson PLC</td>\n",
       "      <td>1</td>\n",
       "    </tr>\n",
       "    <tr>\n",
       "      <th>2</th>\n",
       "      <td>Eric Lozano</td>\n",
       "      <td>38</td>\n",
       "      <td>12884.75</td>\n",
       "      <td>0</td>\n",
       "      <td>6.67</td>\n",
       "      <td>12</td>\n",
       "      <td>29-06-2016 06:20</td>\n",
       "      <td>1331 Keith Court Alyssahaven, DE 90114</td>\n",
       "      <td>Miller, Johnson and Wallace</td>\n",
       "      <td>1</td>\n",
       "    </tr>\n",
       "    <tr>\n",
       "      <th>3</th>\n",
       "      <td>Phillip White</td>\n",
       "      <td>42</td>\n",
       "      <td>8010.76</td>\n",
       "      <td>0</td>\n",
       "      <td>6.71</td>\n",
       "      <td>10</td>\n",
       "      <td>22-04-2014 12:43</td>\n",
       "      <td>13120 Daniel Mount Angelabury, WY 30645-4695</td>\n",
       "      <td>Smith Inc</td>\n",
       "      <td>1</td>\n",
       "    </tr>\n",
       "    <tr>\n",
       "      <th>4</th>\n",
       "      <td>Cynthia Norton</td>\n",
       "      <td>37</td>\n",
       "      <td>9191.58</td>\n",
       "      <td>0</td>\n",
       "      <td>5.56</td>\n",
       "      <td>9</td>\n",
       "      <td>19-01-2016 15:31</td>\n",
       "      <td>765 Tricia Row Karenshire, MH 71730</td>\n",
       "      <td>Love-Jones</td>\n",
       "      <td>1</td>\n",
       "    </tr>\n",
       "  </tbody>\n",
       "</table>\n",
       "</div>"
      ],
      "text/plain": [
       "              Names  Age  Total_Purchase  Account_Manager  Years  Num_Sites  \\\n",
       "0  Cameron Williams   42        11066.80                0   7.22          8   \n",
       "1     Kevin Mueller   41        11916.22                0   6.50         11   \n",
       "2       Eric Lozano   38        12884.75                0   6.67         12   \n",
       "3     Phillip White   42         8010.76                0   6.71         10   \n",
       "4    Cynthia Norton   37         9191.58                0   5.56          9   \n",
       "\n",
       "       Onboard_date                                           Location  \\\n",
       "0  30-08-2013 07:00      10265 Elizabeth Mission Barkerburgh, AK 89518   \n",
       "1  13-08-2013 00:38  6157 Frank Gardens Suite 019 Carloshaven, RI 1...   \n",
       "2  29-06-2016 06:20             1331 Keith Court Alyssahaven, DE 90114   \n",
       "3  22-04-2014 12:43       13120 Daniel Mount Angelabury, WY 30645-4695   \n",
       "4  19-01-2016 15:31                765 Tricia Row Karenshire, MH 71730   \n",
       "\n",
       "                       Company  Churn  \n",
       "0                   Harvey LLC      1  \n",
       "1                   Wilson PLC      1  \n",
       "2  Miller, Johnson and Wallace      1  \n",
       "3                    Smith Inc      1  \n",
       "4                   Love-Jones      1  "
      ]
     },
     "execution_count": 28,
     "metadata": {},
     "output_type": "execute_result"
    }
   ],
   "source": [
    "df_train.head()"
   ]
  },
  {
   "cell_type": "code",
   "execution_count": 29,
   "metadata": {},
   "outputs": [
    {
     "data": {
      "text/html": [
       "<div>\n",
       "<style scoped>\n",
       "    .dataframe tbody tr th:only-of-type {\n",
       "        vertical-align: middle;\n",
       "    }\n",
       "\n",
       "    .dataframe tbody tr th {\n",
       "        vertical-align: top;\n",
       "    }\n",
       "\n",
       "    .dataframe thead th {\n",
       "        text-align: right;\n",
       "    }\n",
       "</style>\n",
       "<table border=\"1\" class=\"dataframe\">\n",
       "  <thead>\n",
       "    <tr style=\"text-align: right;\">\n",
       "      <th></th>\n",
       "      <th>Names</th>\n",
       "      <th>Age</th>\n",
       "      <th>Total_Purchase</th>\n",
       "      <th>Account_Manager</th>\n",
       "      <th>Years</th>\n",
       "      <th>Num_Sites</th>\n",
       "      <th>Onboard_date</th>\n",
       "      <th>Location</th>\n",
       "      <th>Company</th>\n",
       "    </tr>\n",
       "  </thead>\n",
       "  <tbody>\n",
       "    <tr>\n",
       "      <th>0</th>\n",
       "      <td>Andrew Mccall</td>\n",
       "      <td>37</td>\n",
       "      <td>9935.53</td>\n",
       "      <td>1</td>\n",
       "      <td>7.71</td>\n",
       "      <td>8</td>\n",
       "      <td>29-08-2011 18:37</td>\n",
       "      <td>38612 Johnny Stravenue Nataliebury, WI 15717-8316</td>\n",
       "      <td>King Ltd</td>\n",
       "    </tr>\n",
       "    <tr>\n",
       "      <th>1</th>\n",
       "      <td>Michele Wright</td>\n",
       "      <td>23</td>\n",
       "      <td>7526.94</td>\n",
       "      <td>1</td>\n",
       "      <td>9.28</td>\n",
       "      <td>15</td>\n",
       "      <td>22-07-2013 18:19</td>\n",
       "      <td>21083 Nicole Junction Suite 332, Youngport, ME...</td>\n",
       "      <td>Cannon-Benson</td>\n",
       "    </tr>\n",
       "    <tr>\n",
       "      <th>2</th>\n",
       "      <td>Jeremy Chang</td>\n",
       "      <td>65</td>\n",
       "      <td>100.00</td>\n",
       "      <td>1</td>\n",
       "      <td>1.00</td>\n",
       "      <td>15</td>\n",
       "      <td>11-12-2006 07:48</td>\n",
       "      <td>085 Austin Views Lake Julialand, WY 63726-4298</td>\n",
       "      <td>Barron-Robertson</td>\n",
       "    </tr>\n",
       "    <tr>\n",
       "      <th>3</th>\n",
       "      <td>Megan Ferguson</td>\n",
       "      <td>32</td>\n",
       "      <td>6487.50</td>\n",
       "      <td>0</td>\n",
       "      <td>9.40</td>\n",
       "      <td>14</td>\n",
       "      <td>28-10-2016 05:32</td>\n",
       "      <td>922 Wright Branch North Cynthialand, NC 64721</td>\n",
       "      <td>Sexton-Golden</td>\n",
       "    </tr>\n",
       "    <tr>\n",
       "      <th>4</th>\n",
       "      <td>Taylor Young</td>\n",
       "      <td>32</td>\n",
       "      <td>13147.71</td>\n",
       "      <td>1</td>\n",
       "      <td>10.00</td>\n",
       "      <td>8</td>\n",
       "      <td>20-03-2012 00:36</td>\n",
       "      <td>Unit 0789 Box 0734 DPO AP 39702</td>\n",
       "      <td>Wood LLC</td>\n",
       "    </tr>\n",
       "  </tbody>\n",
       "</table>\n",
       "</div>"
      ],
      "text/plain": [
       "            Names  Age  Total_Purchase  Account_Manager  Years  Num_Sites  \\\n",
       "0   Andrew Mccall   37         9935.53                1   7.71          8   \n",
       "1  Michele Wright   23         7526.94                1   9.28         15   \n",
       "2    Jeremy Chang   65          100.00                1   1.00         15   \n",
       "3  Megan Ferguson   32         6487.50                0   9.40         14   \n",
       "4    Taylor Young   32        13147.71                1  10.00          8   \n",
       "\n",
       "       Onboard_date                                           Location  \\\n",
       "0  29-08-2011 18:37  38612 Johnny Stravenue Nataliebury, WI 15717-8316   \n",
       "1  22-07-2013 18:19  21083 Nicole Junction Suite 332, Youngport, ME...   \n",
       "2  11-12-2006 07:48     085 Austin Views Lake Julialand, WY 63726-4298   \n",
       "3  28-10-2016 05:32      922 Wright Branch North Cynthialand, NC 64721   \n",
       "4  20-03-2012 00:36                    Unit 0789 Box 0734 DPO AP 39702   \n",
       "\n",
       "            Company  \n",
       "0          King Ltd  \n",
       "1     Cannon-Benson  \n",
       "2  Barron-Robertson  \n",
       "3     Sexton-Golden  \n",
       "4          Wood LLC  "
      ]
     },
     "execution_count": 29,
     "metadata": {},
     "output_type": "execute_result"
    }
   ],
   "source": [
    "df_test.head()"
   ]
  },
  {
   "cell_type": "code",
   "execution_count": 30,
   "metadata": {},
   "outputs": [
    {
     "data": {
      "text/plain": [
       "Names              0\n",
       "Age                0\n",
       "Total_Purchase     0\n",
       "Account_Manager    0\n",
       "Years              0\n",
       "Num_Sites          0\n",
       "Onboard_date       0\n",
       "Location           0\n",
       "Company            0\n",
       "Churn              0\n",
       "dtype: int64"
      ]
     },
     "execution_count": 30,
     "metadata": {},
     "output_type": "execute_result"
    }
   ],
   "source": [
    "df_train.isnull().sum()"
   ]
  },
  {
   "cell_type": "code",
   "execution_count": 31,
   "metadata": {},
   "outputs": [
    {
     "data": {
      "text/plain": [
       "Names              0\n",
       "Age                0\n",
       "Total_Purchase     0\n",
       "Account_Manager    0\n",
       "Years              0\n",
       "Num_Sites          0\n",
       "Onboard_date       0\n",
       "Location           0\n",
       "Company            0\n",
       "dtype: int64"
      ]
     },
     "execution_count": 31,
     "metadata": {},
     "output_type": "execute_result"
    }
   ],
   "source": [
    "df_test.isnull().sum()"
   ]
  },
  {
   "cell_type": "code",
   "execution_count": 32,
   "metadata": {},
   "outputs": [
    {
     "name": "stdout",
     "output_type": "stream",
     "text": [
      "Names               object\n",
      "Age                  int64\n",
      "Total_Purchase     float64\n",
      "Account_Manager      int64\n",
      "Years              float64\n",
      "Num_Sites            int64\n",
      "Onboard_date        object\n",
      "Location            object\n",
      "Company             object\n",
      "Churn                int64\n",
      "dtype: object\n",
      "\n",
      "\n",
      "Names               object\n",
      "Age                  int64\n",
      "Total_Purchase     float64\n",
      "Account_Manager      int64\n",
      "Years              float64\n",
      "Num_Sites            int64\n",
      "Onboard_date        object\n",
      "Location            object\n",
      "Company             object\n",
      "dtype: object\n"
     ]
    }
   ],
   "source": [
    "print(df_train.dtypes)\n",
    "print(\"\\n\")\n",
    "print(df_test.dtypes)"
   ]
  },
  {
   "cell_type": "markdown",
   "metadata": {},
   "source": [
    "# 2. Data Cleaning"
   ]
  },
  {
   "cell_type": "markdown",
   "metadata": {},
   "source": [
    "# >>Observations\n",
    "\n",
    "# >>Independent Variables\n",
    "#### Names - Its just the name of contact person at company and two persons have same name at two different companies\n",
    "\n",
    "#### Age - Could be coorelated with Churning probablity\n",
    "#### Total_Purchase - Could be coorelated with Churning probablity\n",
    "#### Account_Manager = 467 clients dont have account manager assigned, whereas 433 have an assigned account manager.\n",
    "#### Years - Could be coorelated with Churning probablity\n",
    "#### Num_Sites - Could be coorelated with Churning probablity\n",
    "\n",
    "# >>Feature Extraction\n",
    "#### Onboard_Year - All were boarded on different dates, hence we can order them in ascending order of getting onboarded.\n",
    "#### Location - we can extract the state they belong, to get more idea on which state have the probablity to churn\n",
    "#### Company - Some companies use the service for their multiple office locations, Eg. Company Anderson Group has offices at multiple locations\n",
    "\n",
    "# >>Dependent Variable/Predicted Variable\n",
    "#### Churn indicates 750 are not churned and 150 are churned\n",
    "\n",
    "\n",
    "# >>Quantitative Variables\n",
    "#### Age,\n",
    "#### Total_Purchase,\n",
    "#### Years,\n",
    "#### Num_Sites,\n",
    "#### Onboard_Year : Create from Onboard_date\n",
    "\n",
    "# >>Qualitative Variables\n",
    "#### Account_Manager - Its already encoded\n",
    "#### Company - We need to encode it\n",
    "#### Location - We need to extract State code and encode it"
   ]
  },
  {
   "cell_type": "code",
   "execution_count": 108,
   "metadata": {},
   "outputs": [],
   "source": [
    "df_train['State'] = df_train['Location'].str.split(', |DPO |FPO', 1).str[1].str.strip().str[:2]\n",
    "df_test['State'] = df_test['Location'].str.split(', |DPO |FPO |Carlos', 1).str[1].str.strip().str[:2]"
   ]
  },
  {
   "cell_type": "code",
   "execution_count": 109,
   "metadata": {},
   "outputs": [],
   "source": [
    "df_train['Onboard_Year'] = pd.DatetimeIndex(df_train['Onboard_date']).year\n",
    "df_test['Onboard_Year'] = pd.DatetimeIndex(df_test['Onboard_date']).year"
   ]
  },
  {
   "cell_type": "code",
   "execution_count": 110,
   "metadata": {},
   "outputs": [],
   "source": [
    "df_train_1=df_train[['Age','Total_Purchase','Account_Manager','Years','Num_Sites','Company','State','Onboard_Year','Churn']]\n",
    "df_test_1=df_test[['Age','Total_Purchase','Account_Manager','Years','Num_Sites','Company','State','Onboard_Year']]"
   ]
  },
  {
   "cell_type": "code",
   "execution_count": 156,
   "metadata": {},
   "outputs": [
    {
     "data": {
      "image/png": "[encoded data removed]",
      "text/plain": [
       "<Figure size 792x576 with 2 Axes>"
      ]
     },
     "metadata": {
      "needs_background": "light"
     },
     "output_type": "display_data"
    }
   ],
   "source": [
    "#Heat map of all continuous variables, ignored the categorical variables\n",
    "data_continous_temp = df_train_1[['Age','Total_Purchase','Years','Num_Sites','Onboard_Year']]\n",
    "data_continous_temp['Churn'] = df_train_1.Churn\n",
    "sns.heatmap(data_continous_temp.corr(method='pearson'),annot=True, cmap='RdYlGn', linewidths=0.2)\n",
    "fig=plt.gcf()\n",
    "fig.set_size_inches(11,8)\n",
    "plt.show()"
   ]
  },
  {
   "cell_type": "code",
   "execution_count": 171,
   "metadata": {},
   "outputs": [],
   "source": [
    "#Encode the categorical variables\n",
    "df_obj = df_train_1.select_dtypes(exclude=['int64','float64'])\n",
    "df_num = df_train_1.select_dtypes(include=['int64','float64'])\n",
    "df_encoded = df_obj.apply(LabelEncoder().fit_transform)\n",
    "df_train_2 = df_num.join(df_encoded)\n",
    "\n",
    "df_obj = df_test_1.select_dtypes(exclude=['int64','float64'])\n",
    "df_num = df_test_1.select_dtypes(include=['int64','float64'])\n",
    "df_encoded = df_obj.apply(LabelEncoder().fit_transform)\n",
    "df_test_2 = df_num.join(df_encoded)"
   ]
  },
  {
   "cell_type": "markdown",
   "metadata": {},
   "source": [
    "## 3. Model Building, Predicting and Evaluation"
   ]
  },
  {
   "cell_type": "code",
   "execution_count": 172,
   "metadata": {},
   "outputs": [],
   "source": [
    "X = df_train_2.drop('Churn', axis=1)\n",
    "Y = df_train_2['Churn']"
   ]
  },
  {
   "cell_type": "code",
   "execution_count": 173,
   "metadata": {},
   "outputs": [],
   "source": [
    "seed = 10\n",
    "test_size = 0.2\n",
    "X_train, X_test, Y_train, Y_test = train_test_split(X,Y,test_size = test_size,random_state = seed)"
   ]
  },
  {
   "cell_type": "code",
   "execution_count": 174,
   "metadata": {},
   "outputs": [
    {
     "name": "stdout",
     "output_type": "stream",
     "text": [
      "720 720 180 180\n"
     ]
    }
   ],
   "source": [
    "print(len(X_train), len(Y_train), len(X_test), len(Y_test))"
   ]
  },
  {
   "cell_type": "code",
   "execution_count": 175,
   "metadata": {},
   "outputs": [
    {
     "data": {
      "text/plain": [
       "LogisticRegression(C=1.0, class_weight=None, dual=False, fit_intercept=True,\n",
       "          intercept_scaling=1, max_iter=100, multi_class='warn',\n",
       "          n_jobs=None, penalty='l2', random_state=None, solver='warn',\n",
       "          tol=0.0001, verbose=0, warm_start=False)"
      ]
     },
     "execution_count": 175,
     "metadata": {},
     "output_type": "execute_result"
    }
   ],
   "source": [
    "model = LogisticRegression()\n",
    "model.fit(X_train,Y_train) #Training the Model"
   ]
  },
  {
   "cell_type": "code",
   "execution_count": 192,
   "metadata": {},
   "outputs": [
    {
     "name": "stdout",
     "output_type": "stream",
     "text": [
      "Training accuracy:  0.8902777777777777\n",
      "Precision:  0.7555555555555555\n",
      "Recall:  0.544\n",
      "F1 score is:  0.8829143595422664\n",
      "Train AUC is:  0.8991058823529412\n",
      "\n",
      "Confusion Matrix for  720 test set\n",
      "TN:  573\n",
      "TP:  68\n",
      "FP:  22\n",
      "FN:  57\n"
     ]
    }
   ],
   "source": [
    "train_acc = accuracy_score(Y_train, model.predict(X_train))\n",
    "\n",
    "train_false_positive_rate, train_true_positive_rate, thresholds = roc_curve(Y_train, model.predict_proba(X_train)[:,1])\n",
    "tn, fp, fn, tp= confusion_matrix(Y_train, model.predict(X_train)).ravel()\n",
    "\n",
    "print(\"Training accuracy: \",train_acc)\n",
    "print(\"Precision: \", precision_score(Y_train, model.predict(X_train)))\n",
    "print(\"Recall: \", recall_score(Y_train, model.predict(X_train)))\n",
    "print(\"F1 score is: \", f1_score(Y_train, model.predict(X_train), average='weighted'))\n",
    "print(\"Train AUC is: \",auc(train_false_positive_rate, train_true_positive_rate))\n",
    "print(\"\")\n",
    "print(\"Confusion Matrix for \", len(Y_train), \"test set\")\n",
    "print(\"TN: \",tn)\n",
    "print(\"TP: \",tp)\n",
    "print(\"FP: \",fp)\n",
    "print(\"FN: \",fn)"
   ]
  },
  {
   "cell_type": "code",
   "execution_count": 177,
   "metadata": {},
   "outputs": [],
   "source": [
    "Y_test_pred = model.predict(X_test)"
   ]
  },
  {
   "cell_type": "code",
   "execution_count": 166,
   "metadata": {},
   "outputs": [
    {
     "name": "stdout",
     "output_type": "stream",
     "text": [
      "Test accuracy:  0.9333333333333333\n",
      "Precision:  0.8095238095238095\n",
      "Recall:  0.68\n",
      "F1 score is:  0.930859411058802\n",
      "Test AUC is:  0.952258064516129\n",
      "\n",
      "Confusion Matrix for  180 test set\n",
      "TN:  151\n",
      "TP:  17\n",
      "FP:  4\n",
      "FN:  8\n"
     ]
    }
   ],
   "source": [
    "test_acc = accuracy_score(Y_test, Y_test_pred)\n",
    "\n",
    "test_false_positive_rate, test_true_positive_rate, thresholds = roc_curve(Y_test, model.predict_proba(X_test)[:,1])\n",
    "tn, fp, fn, tp= confusion_matrix(Y_test, model.predict(X_test)).ravel()\n",
    "\n",
    "print(\"Test accuracy: \",test_acc)\n",
    "print(\"Precision: \", precision_score(Y_test, model.predict(X_test)))\n",
    "print(\"Recall: \", recall_score(Y_test, model.predict(X_test)))\n",
    "print(\"F1 score is: \", f1_score(Y_test, model.predict(X_test), average='weighted'))\n",
    "print(\"Test AUC is: \",auc(test_false_positive_rate, test_true_positive_rate))\n",
    "print(\"\")\n",
    "print(\"Confusion Matrix for \", len(Y_test), \"test set\")\n",
    "print(\"TN: \",tn)\n",
    "print(\"TP: \",tp)\n",
    "print(\"FP: \",fp)\n",
    "print(\"FN: \",fn)"
   ]
  },
  {
   "cell_type": "code",
   "execution_count": 191,
   "metadata": {},
   "outputs": [
    {
     "data": {
      "image/png": "[encoded data removed]",
      "text/plain": [
       "<Figure size 432x288 with 1 Axes>"
      ]
     },
     "metadata": {
      "needs_background": "light"
     },
     "output_type": "display_data"
    }
   ],
   "source": [
    "y_pred_proba_train = model.predict_proba(X_train)[::,1]\n",
    "y_pred_proba_test = model.predict_proba(X_test)[::,1]\n",
    "\n",
    "fpr_train, tpr_train, _ = metrics.roc_curve(Y_train,  y_pred_proba_train)\n",
    "fpr_test, tpr_test, _ = metrics.roc_curve(Y_test,  y_pred_proba_test)\n",
    "\n",
    "auc_train = metrics.roc_auc_score(Y_train, y_pred_proba_train)\n",
    "auc_test = metrics.roc_auc_score(Y_test, y_pred_proba_test)\n",
    "\n",
    "plt.title('Receiver Operating Characteristic')\n",
    "\n",
    "plt.plot(fpr_train,tpr_train,label=\"train, auc=\"+str(auc_train))\n",
    "plt.plot(fpr_test,tpr_test,label=\"test, auc=\"+str(auc_test))\n",
    "\n",
    "plt.ylabel('True Positive Rate')\n",
    "plt.xlabel('False Positive Rate')\n",
    "\n",
    "plt.legend(loc=4)\n",
    "plt.show()"
   ]
  },
  {
   "cell_type": "markdown",
   "metadata": {},
   "source": [
    "### 10 fold cross validation"
   ]
  },
  {
   "cell_type": "code",
   "execution_count": 167,
   "metadata": {},
   "outputs": [
    {
     "name": "stdout",
     "output_type": "stream",
     "text": [
      "Done\n",
      "Done\n",
      "Done\n",
      "Done\n",
      "Accuracy:  0.8911111111111112\n",
      "Precision 0.7541522366522366\n",
      "Recall:  0.52\n",
      "F Score:  0.6108115301323698\n",
      "--- 0.18398618698120117 seconds ---\n"
     ]
    }
   ],
   "source": [
    "start_time = time.time()\n",
    "\n",
    "scores= cross_val_score(model, X, Y, cv=10)\n",
    "print(\"Done\")\n",
    "precision= cross_val_score(model, X, Y, cv=10, scoring='precision')\n",
    "print(\"Done\")\n",
    "recall= cross_val_score(model, X, Y, cv=10, scoring='recall')\n",
    "print(\"Done\")\n",
    "FScore= cross_val_score(model, X, Y, cv=10, scoring='f1')\n",
    "print('Done')\n",
    "print(\"Accuracy: \", scores.mean())\n",
    "print(\"Precision\", precision.mean())\n",
    "print(\"Recall: \", recall.mean())\n",
    "print(\"F Score: \", FScore.mean())\n",
    "print(\"--- %s seconds ---\" % (time.time() - start_time))"
   ]
  },
  {
   "cell_type": "markdown",
   "metadata": {},
   "source": [
    "# 4. Conclusion"
   ]
  },
  {
   "cell_type": "markdown",
   "metadata": {},
   "source": [
    "#### In this problem statement, \n",
    "#### (False Negative) FN should be less i.e. Actually the customer was churned, but the model predicted as not churned; It is critical for FN to be less, because we are at risk of loosing the customer and loss to business, incase we dont assign an account manager \n",
    "#### (False Positive) FP is ok to more than FN i.e The customer is not churned but the model predicted as Churned; In this case there is no harm as we would just be unncessarily assigning an account manager\n",
    "\n",
    "#### Hence,\n",
    "#### 1) Recall should be more than Precision\n",
    "#### 2) F1 Score if just 0.61 indicating, Out of all the observations labelled as positive, only 61% were actually positive.\n",
    "#### But using Logistic Regression, the Precision is more then recall; Hence Logistic regression is not a good fit to this problem and we need to implement other algorithms/improve recall score for this problem.\n",
    "\n",
    "#### Note: It was required to do feature selection, based on calculating different coorelation coefficients based on datatype of X's and Y and check multicolinearity among independent variables to reduce independent variables in model, This point is pending and requires further analysis"
   ]
  },
  {
   "cell_type": "markdown",
   "metadata": {},
   "source": [
    "# 5. Prediction on the test data provided, to identify whether this unseen customer will churn"
   ]
  },
  {
   "cell_type": "code",
   "execution_count": 195,
   "metadata": {},
   "outputs": [
    {
     "data": {
      "text/html": [
       "<div>\n",
       "<style scoped>\n",
       "    .dataframe tbody tr th:only-of-type {\n",
       "        vertical-align: middle;\n",
       "    }\n",
       "\n",
       "    .dataframe tbody tr th {\n",
       "        vertical-align: top;\n",
       "    }\n",
       "\n",
       "    .dataframe thead th {\n",
       "        text-align: right;\n",
       "    }\n",
       "</style>\n",
       "<table border=\"1\" class=\"dataframe\">\n",
       "  <thead>\n",
       "    <tr style=\"text-align: right;\">\n",
       "      <th></th>\n",
       "      <th>Age</th>\n",
       "      <th>Total_Purchase</th>\n",
       "      <th>Account_Manager</th>\n",
       "      <th>Years</th>\n",
       "      <th>Num_Sites</th>\n",
       "      <th>Onboard_Year</th>\n",
       "      <th>Company</th>\n",
       "      <th>State</th>\n",
       "    </tr>\n",
       "  </thead>\n",
       "  <tbody>\n",
       "    <tr>\n",
       "      <th>0</th>\n",
       "      <td>37</td>\n",
       "      <td>9935.53</td>\n",
       "      <td>1</td>\n",
       "      <td>7.71</td>\n",
       "      <td>8</td>\n",
       "      <td>2011</td>\n",
       "      <td>2</td>\n",
       "      <td>3</td>\n",
       "    </tr>\n",
       "    <tr>\n",
       "      <th>1</th>\n",
       "      <td>23</td>\n",
       "      <td>7526.94</td>\n",
       "      <td>1</td>\n",
       "      <td>9.28</td>\n",
       "      <td>15</td>\n",
       "      <td>2013</td>\n",
       "      <td>1</td>\n",
       "      <td>5</td>\n",
       "    </tr>\n",
       "    <tr>\n",
       "      <th>2</th>\n",
       "      <td>65</td>\n",
       "      <td>100.00</td>\n",
       "      <td>1</td>\n",
       "      <td>1.00</td>\n",
       "      <td>15</td>\n",
       "      <td>2006</td>\n",
       "      <td>0</td>\n",
       "      <td>4</td>\n",
       "    </tr>\n",
       "    <tr>\n",
       "      <th>3</th>\n",
       "      <td>32</td>\n",
       "      <td>6487.50</td>\n",
       "      <td>0</td>\n",
       "      <td>9.40</td>\n",
       "      <td>14</td>\n",
       "      <td>2016</td>\n",
       "      <td>4</td>\n",
       "      <td>1</td>\n",
       "    </tr>\n",
       "    <tr>\n",
       "      <th>4</th>\n",
       "      <td>32</td>\n",
       "      <td>13147.71</td>\n",
       "      <td>1</td>\n",
       "      <td>10.00</td>\n",
       "      <td>8</td>\n",
       "      <td>2012</td>\n",
       "      <td>5</td>\n",
       "      <td>0</td>\n",
       "    </tr>\n",
       "    <tr>\n",
       "      <th>5</th>\n",
       "      <td>22</td>\n",
       "      <td>8445.26</td>\n",
       "      <td>1</td>\n",
       "      <td>3.46</td>\n",
       "      <td>14</td>\n",
       "      <td>2011</td>\n",
       "      <td>3</td>\n",
       "      <td>2</td>\n",
       "    </tr>\n",
       "  </tbody>\n",
       "</table>\n",
       "</div>"
      ],
      "text/plain": [
       "   Age  Total_Purchase  Account_Manager  Years  Num_Sites  Onboard_Year  \\\n",
       "0   37         9935.53                1   7.71          8          2011   \n",
       "1   23         7526.94                1   9.28         15          2013   \n",
       "2   65          100.00                1   1.00         15          2006   \n",
       "3   32         6487.50                0   9.40         14          2016   \n",
       "4   32        13147.71                1  10.00          8          2012   \n",
       "5   22         8445.26                1   3.46         14          2011   \n",
       "\n",
       "   Company  State  \n",
       "0        2      3  \n",
       "1        1      5  \n",
       "2        0      4  \n",
       "3        4      1  \n",
       "4        5      0  \n",
       "5        3      2  "
      ]
     },
     "execution_count": 195,
     "metadata": {},
     "output_type": "execute_result"
    }
   ],
   "source": [
    "#Prediction on below new unseen dataset\n",
    "df_test_2"
   ]
  },
  {
   "cell_type": "code",
   "execution_count": 182,
   "metadata": {},
   "outputs": [],
   "source": [
    "Y_test_pred = model.predict(df_test_2)"
   ]
  },
  {
   "cell_type": "markdown",
   "metadata": {},
   "source": [
    "## In Below, output 0 indicates customer will not Churn and 1 means Customer will Churn "
   ]
  },
  {
   "cell_type": "code",
   "execution_count": 183,
   "metadata": {},
   "outputs": [
    {
     "data": {
      "text/plain": [
       "array([0, 1, 1, 1, 0, 1], dtype=int64)"
      ]
     },
     "execution_count": 183,
     "metadata": {},
     "output_type": "execute_result"
    }
   ],
   "source": [
    "Y_test_pred"
   ]
  },
  {
   "cell_type": "code",
   "execution_count": 186,
   "metadata": {},
   "outputs": [
    {
     "data": {
      "text/html": [
       "<div>\n",
       "<style scoped>\n",
       "    .dataframe tbody tr th:only-of-type {\n",
       "        vertical-align: middle;\n",
       "    }\n",
       "\n",
       "    .dataframe tbody tr th {\n",
       "        vertical-align: top;\n",
       "    }\n",
       "\n",
       "    .dataframe thead th {\n",
       "        text-align: right;\n",
       "    }\n",
       "</style>\n",
       "<table border=\"1\" class=\"dataframe\">\n",
       "  <thead>\n",
       "    <tr style=\"text-align: right;\">\n",
       "      <th></th>\n",
       "      <th>Company</th>\n",
       "      <th>Churn</th>\n",
       "    </tr>\n",
       "  </thead>\n",
       "  <tbody>\n",
       "    <tr>\n",
       "      <th>0</th>\n",
       "      <td>King Ltd</td>\n",
       "      <td>0</td>\n",
       "    </tr>\n",
       "    <tr>\n",
       "      <th>1</th>\n",
       "      <td>Cannon-Benson</td>\n",
       "      <td>1</td>\n",
       "    </tr>\n",
       "    <tr>\n",
       "      <th>2</th>\n",
       "      <td>Barron-Robertson</td>\n",
       "      <td>1</td>\n",
       "    </tr>\n",
       "    <tr>\n",
       "      <th>3</th>\n",
       "      <td>Sexton-Golden</td>\n",
       "      <td>1</td>\n",
       "    </tr>\n",
       "    <tr>\n",
       "      <th>4</th>\n",
       "      <td>Wood LLC</td>\n",
       "      <td>0</td>\n",
       "    </tr>\n",
       "    <tr>\n",
       "      <th>5</th>\n",
       "      <td>Parks-Robbins</td>\n",
       "      <td>1</td>\n",
       "    </tr>\n",
       "  </tbody>\n",
       "</table>\n",
       "</div>"
      ],
      "text/plain": [
       "            Company  Churn\n",
       "0          King Ltd      0\n",
       "1     Cannon-Benson      1\n",
       "2  Barron-Robertson      1\n",
       "3     Sexton-Golden      1\n",
       "4          Wood LLC      0\n",
       "5     Parks-Robbins      1"
      ]
     },
     "execution_count": 186,
     "metadata": {},
     "output_type": "execute_result"
    }
   ],
   "source": [
    "churned=pd.DataFrame(Y_test_pred)\n",
    "Output=pd.concat([df_test_1['Company'] ,churned],axis=1)\n",
    "Output.columns = ['Company', 'Churn']\n",
    "Output.head(10)"
   ]
  },
  {
   "cell_type": "code",
   "execution_count": 188,
   "metadata": {},
   "outputs": [],
   "source": [
    "Output.to_csv('Output-Hackathon-HardikRaja.csv')"
   ]
  }
 ],
 "metadata": {
  "kernelspec": {
   "display_name": "Python 3",
   "language": "python",
   "name": "python3"
  },
  "language_info": {
   "codemirror_mode": {
    "name": "ipython",
    "version": 3
   },
   "file_extension": ".py",
   "mimetype": "text/x-python",
   "name": "python",
   "nbconvert_exporter": "python",
   "pygments_lexer": "ipython3",
   "version": "3.7.1"
  }
 },
 "nbformat": 4,
 "nbformat_minor": 2
}
