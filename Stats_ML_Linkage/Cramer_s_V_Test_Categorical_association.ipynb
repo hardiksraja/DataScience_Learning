{
  "nbformat": 4,
  "nbformat_minor": 0,
  "metadata": {
    "colab": {
      "name": "Cramer_s V Test - Categorical association.ipynb",
      "provenance": [],
      "collapsed_sections": [],
      "include_colab_link": true
    },
    "kernelspec": {
      "name": "python3",
      "display_name": "Python 3"
    }
  },
  "cells": [
    {
      "cell_type": "markdown",
      "metadata": {
        "id": "view-in-github",
        "colab_type": "text"
      },
      "source": [
        "<a href=\"https://colab.research.google.com/github/hardiksraja/DataScience_Learning/blob/master/Stats_ML_Linkage/Cramer_s_V_Test_Categorical_association.ipynb\" target=\"_parent\"><img src=\"https://colab.research.google.com/assets/colab-badge.svg\" alt=\"Open In Colab\"/></a>"
      ]
    },
    {
      "cell_type": "markdown",
      "metadata": {
        "id": "NmSNm_ys5CLI",
        "colab_type": "text"
      },
      "source": [
        "Cramer's V test is used to calculate strength between two categorical values.\n",
        "\n",
        "It is similar to pearson's correlation coefficient which is used to identify the correlation between 2 continuous variables.\n",
        "\n",
        "Cramer's V Test is an extension of Chi2 test."
      ]
    },
    {
      "cell_type": "code",
      "metadata": {
        "id": "fN5rFIzc4E54",
        "colab_type": "code",
        "colab": {}
      },
      "source": [
        "import warnings\n",
        "warnings.simplefilter(action='ignore', category=FutureWarning)\n",
        "\n",
        "import pandas as pd\n",
        "import numpy as np\n",
        "import seaborn as sns\n",
        "import matplotlib.pyplot as plt\n",
        "\n",
        "%matplotlib inline"
      ],
      "execution_count": 0,
      "outputs": []
    },
    {
      "cell_type": "code",
      "metadata": {
        "id": "MoQmjg-j5xI_",
        "colab_type": "code",
        "colab": {}
      },
      "source": [
        "churn_master_df = pd.read_csv('https://raw.githubusercontent.com/hardiksraja/DataScience_Learning/master/Stats_ML_Linkage/datasets/churn_data_st.csv')"
      ],
      "execution_count": 0,
      "outputs": []
    },
    {
      "cell_type": "code",
      "metadata": {
        "id": "KL8cUsrR6NPj",
        "colab_type": "code",
        "colab": {}
      },
      "source": [
        "churn_df = churn_master_df.copy()"
      ],
      "execution_count": 0,
      "outputs": []
    },
    {
      "cell_type": "code",
      "metadata": {
        "id": "IIbiUA9I6SVO",
        "colab_type": "code",
        "outputId": "b974c450-f9eb-4773-c02f-36f106e528b7",
        "colab": {
          "base_uri": "https://localhost:8080/",
          "height": 194
        }
      },
      "source": [
        "churn_df.head()"
      ],
      "execution_count": 5,
      "outputs": [
        {
          "output_type": "execute_result",
          "data": {
            "text/html": [
              "<div>\n",
              "<style scoped>\n",
              "    .dataframe tbody tr th:only-of-type {\n",
              "        vertical-align: middle;\n",
              "    }\n",
              "\n",
              "    .dataframe tbody tr th {\n",
              "        vertical-align: top;\n",
              "    }\n",
              "\n",
              "    .dataframe thead th {\n",
              "        text-align: right;\n",
              "    }\n",
              "</style>\n",
              "<table border=\"1\" class=\"dataframe\">\n",
              "  <thead>\n",
              "    <tr style=\"text-align: right;\">\n",
              "      <th></th>\n",
              "      <th>customerID</th>\n",
              "      <th>gender</th>\n",
              "      <th>SeniorCitizen</th>\n",
              "      <th>tenure</th>\n",
              "      <th>ServiceCount</th>\n",
              "      <th>Contract</th>\n",
              "      <th>PaperlessBilling</th>\n",
              "      <th>MonthlyCharges</th>\n",
              "      <th>TotalCharges</th>\n",
              "      <th>Churn</th>\n",
              "    </tr>\n",
              "  </thead>\n",
              "  <tbody>\n",
              "    <tr>\n",
              "      <th>0</th>\n",
              "      <td>7590-VHVEG</td>\n",
              "      <td>Female</td>\n",
              "      <td>0</td>\n",
              "      <td>1</td>\n",
              "      <td>2</td>\n",
              "      <td>Month-to-month</td>\n",
              "      <td>Yes</td>\n",
              "      <td>29.85</td>\n",
              "      <td>29.85</td>\n",
              "      <td>No</td>\n",
              "    </tr>\n",
              "    <tr>\n",
              "      <th>1</th>\n",
              "      <td>5575-GNVDE</td>\n",
              "      <td>Male</td>\n",
              "      <td>0</td>\n",
              "      <td>34</td>\n",
              "      <td>4</td>\n",
              "      <td>One year</td>\n",
              "      <td>No</td>\n",
              "      <td>56.95</td>\n",
              "      <td>1889.50</td>\n",
              "      <td>No</td>\n",
              "    </tr>\n",
              "    <tr>\n",
              "      <th>2</th>\n",
              "      <td>3668-QPYBK</td>\n",
              "      <td>Male</td>\n",
              "      <td>0</td>\n",
              "      <td>2</td>\n",
              "      <td>4</td>\n",
              "      <td>Month-to-month</td>\n",
              "      <td>Yes</td>\n",
              "      <td>53.85</td>\n",
              "      <td>108.15</td>\n",
              "      <td>Yes</td>\n",
              "    </tr>\n",
              "    <tr>\n",
              "      <th>3</th>\n",
              "      <td>7795-CFOCW</td>\n",
              "      <td>Male</td>\n",
              "      <td>0</td>\n",
              "      <td>45</td>\n",
              "      <td>4</td>\n",
              "      <td>One year</td>\n",
              "      <td>No</td>\n",
              "      <td>42.30</td>\n",
              "      <td>1840.75</td>\n",
              "      <td>No</td>\n",
              "    </tr>\n",
              "    <tr>\n",
              "      <th>4</th>\n",
              "      <td>9237-HQITU</td>\n",
              "      <td>Female</td>\n",
              "      <td>0</td>\n",
              "      <td>2</td>\n",
              "      <td>2</td>\n",
              "      <td>Month-to-month</td>\n",
              "      <td>Yes</td>\n",
              "      <td>70.70</td>\n",
              "      <td>151.65</td>\n",
              "      <td>Yes</td>\n",
              "    </tr>\n",
              "  </tbody>\n",
              "</table>\n",
              "</div>"
            ],
            "text/plain": [
              "   customerID  gender  SeniorCitizen  ...  MonthlyCharges  TotalCharges Churn\n",
              "0  7590-VHVEG  Female              0  ...           29.85         29.85    No\n",
              "1  5575-GNVDE    Male              0  ...           56.95       1889.50    No\n",
              "2  3668-QPYBK    Male              0  ...           53.85        108.15   Yes\n",
              "3  7795-CFOCW    Male              0  ...           42.30       1840.75    No\n",
              "4  9237-HQITU  Female              0  ...           70.70        151.65   Yes\n",
              "\n",
              "[5 rows x 10 columns]"
            ]
          },
          "metadata": {
            "tags": []
          },
          "execution_count": 5
        }
      ]
    },
    {
      "cell_type": "code",
      "metadata": {
        "id": "Y4c-MSYU6WSS",
        "colab_type": "code",
        "outputId": "d247c011-3de5-4f53-f5f5-fd6b45a0412c",
        "colab": {
          "base_uri": "https://localhost:8080/",
          "height": 35
        }
      },
      "source": [
        "churn_df.shape"
      ],
      "execution_count": 8,
      "outputs": [
        {
          "output_type": "execute_result",
          "data": {
            "text/plain": [
              "(7043, 10)"
            ]
          },
          "metadata": {
            "tags": []
          },
          "execution_count": 8
        }
      ]
    },
    {
      "cell_type": "markdown",
      "metadata": {
        "id": "H3X9jWqp6i7z",
        "colab_type": "text"
      },
      "source": [
        "Here we will use contract,gender and paperless billing columns.\n",
        "\n",
        "**Contract** - What kind of contract the end user has for telecom company."
      ]
    },
    {
      "cell_type": "code",
      "metadata": {
        "id": "UdHgVWdj6Yw2",
        "colab_type": "code",
        "outputId": "432274d2-d498-4b51-bf22-04478680029a",
        "colab": {
          "base_uri": "https://localhost:8080/",
          "height": 319
        }
      },
      "source": [
        "churn_df.info()"
      ],
      "execution_count": 9,
      "outputs": [
        {
          "output_type": "stream",
          "text": [
            "<class 'pandas.core.frame.DataFrame'>\n",
            "RangeIndex: 7043 entries, 0 to 7042\n",
            "Data columns (total 10 columns):\n",
            " #   Column            Non-Null Count  Dtype  \n",
            "---  ------            --------------  -----  \n",
            " 0   customerID        7043 non-null   object \n",
            " 1   gender            7043 non-null   object \n",
            " 2   SeniorCitizen     7043 non-null   int64  \n",
            " 3   tenure            7043 non-null   int64  \n",
            " 4   ServiceCount      7043 non-null   int64  \n",
            " 5   Contract          7043 non-null   object \n",
            " 6   PaperlessBilling  7043 non-null   object \n",
            " 7   MonthlyCharges    7043 non-null   float64\n",
            " 8   TotalCharges      7016 non-null   float64\n",
            " 9   Churn             7043 non-null   object \n",
            "dtypes: float64(2), int64(3), object(5)\n",
            "memory usage: 550.4+ KB\n"
          ],
          "name": "stdout"
        }
      ]
    },
    {
      "cell_type": "code",
      "metadata": {
        "id": "D4iIOVwT69Pw",
        "colab_type": "code",
        "outputId": "3e092e7a-cf65-43da-8a2a-d7e1208c9c6e",
        "colab": {
          "base_uri": "https://localhost:8080/",
          "height": 194
        }
      },
      "source": [
        "churn_df.corr() # only shows correlation output of all the numeric variables"
      ],
      "execution_count": 11,
      "outputs": [
        {
          "output_type": "execute_result",
          "data": {
            "text/html": [
              "<div>\n",
              "<style scoped>\n",
              "    .dataframe tbody tr th:only-of-type {\n",
              "        vertical-align: middle;\n",
              "    }\n",
              "\n",
              "    .dataframe tbody tr th {\n",
              "        vertical-align: top;\n",
              "    }\n",
              "\n",
              "    .dataframe thead th {\n",
              "        text-align: right;\n",
              "    }\n",
              "</style>\n",
              "<table border=\"1\" class=\"dataframe\">\n",
              "  <thead>\n",
              "    <tr style=\"text-align: right;\">\n",
              "      <th></th>\n",
              "      <th>SeniorCitizen</th>\n",
              "      <th>tenure</th>\n",
              "      <th>ServiceCount</th>\n",
              "      <th>MonthlyCharges</th>\n",
              "      <th>TotalCharges</th>\n",
              "    </tr>\n",
              "  </thead>\n",
              "  <tbody>\n",
              "    <tr>\n",
              "      <th>SeniorCitizen</th>\n",
              "      <td>1.000000</td>\n",
              "      <td>0.016567</td>\n",
              "      <td>-0.090899</td>\n",
              "      <td>0.220173</td>\n",
              "      <td>0.100795</td>\n",
              "    </tr>\n",
              "    <tr>\n",
              "      <th>tenure</th>\n",
              "      <td>0.016567</td>\n",
              "      <td>1.000000</td>\n",
              "      <td>0.508526</td>\n",
              "      <td>0.247900</td>\n",
              "      <td>0.826066</td>\n",
              "    </tr>\n",
              "    <tr>\n",
              "      <th>ServiceCount</th>\n",
              "      <td>-0.090899</td>\n",
              "      <td>0.508526</td>\n",
              "      <td>1.000000</td>\n",
              "      <td>0.041463</td>\n",
              "      <td>0.443768</td>\n",
              "    </tr>\n",
              "    <tr>\n",
              "      <th>MonthlyCharges</th>\n",
              "      <td>0.220173</td>\n",
              "      <td>0.247900</td>\n",
              "      <td>0.041463</td>\n",
              "      <td>1.000000</td>\n",
              "      <td>0.650964</td>\n",
              "    </tr>\n",
              "    <tr>\n",
              "      <th>TotalCharges</th>\n",
              "      <td>0.100795</td>\n",
              "      <td>0.826066</td>\n",
              "      <td>0.443768</td>\n",
              "      <td>0.650964</td>\n",
              "      <td>1.000000</td>\n",
              "    </tr>\n",
              "  </tbody>\n",
              "</table>\n",
              "</div>"
            ],
            "text/plain": [
              "                SeniorCitizen    tenure  ...  MonthlyCharges  TotalCharges\n",
              "SeniorCitizen        1.000000  0.016567  ...        0.220173      0.100795\n",
              "tenure               0.016567  1.000000  ...        0.247900      0.826066\n",
              "ServiceCount        -0.090899  0.508526  ...        0.041463      0.443768\n",
              "MonthlyCharges       0.220173  0.247900  ...        1.000000      0.650964\n",
              "TotalCharges         0.100795  0.826066  ...        0.650964      1.000000\n",
              "\n",
              "[5 rows x 5 columns]"
            ]
          },
          "metadata": {
            "tags": []
          },
          "execution_count": 11
        }
      ]
    },
    {
      "cell_type": "code",
      "metadata": {
        "id": "kbgTeTxp7Ac7",
        "colab_type": "code",
        "outputId": "f8233b32-c787-4ecc-bea9-76926b213af0",
        "colab": {
          "base_uri": "https://localhost:8080/",
          "height": 88
        }
      },
      "source": [
        "churn_df['Contract'].value_counts()"
      ],
      "execution_count": 13,
      "outputs": [
        {
          "output_type": "execute_result",
          "data": {
            "text/plain": [
              "Month-to-month    3875\n",
              "Two year          1695\n",
              "One year          1473\n",
              "Name: Contract, dtype: int64"
            ]
          },
          "metadata": {
            "tags": []
          },
          "execution_count": 13
        }
      ]
    },
    {
      "cell_type": "code",
      "metadata": {
        "id": "KQGfm-UU7JzD",
        "colab_type": "code",
        "outputId": "3f84c239-91dc-4863-b18d-d798e530555b",
        "colab": {
          "base_uri": "https://localhost:8080/",
          "height": 561
        }
      },
      "source": [
        "# sns.set(style=\"darkgrid\")\n",
        "# sns.set_palette(\"hls\",3)\n",
        "# fig,ax = plt.subplots(figsize=(20,5))\n",
        "# ax=sns.countplot(x=\"Contract\",hue=\"Churn\",data=churn_df)\n",
        "\n",
        "# for p in ax.patches:\n",
        "#   height=p.get_height()\n",
        "#   ax.text(p.get_x()+p.get_width()/2.,\n",
        "#           height+3,\n",
        "#           '{:1.2f}'.format(height/churn_df.shape[0]),\n",
        "#           ha ='center')\n",
        "  \n",
        "\n",
        "sns.set(style=\"darkgrid\")\n",
        "sns.set_palette(\"hls\",3)\n",
        "fig,ax=plt.subplots(figsize=(20,5))\n",
        "ax=sns.countplot(x=\"Contract\", hue=\"Churn\", data=churn_df)\n",
        "\n",
        "for p in ax.patches:\n",
        "  height=p.height()\n",
        "  ax.text(p.get_x()+p.get_width()/2.,\n",
        "          height+3,\n",
        "          '{:1.2f}'.format(height/churn_df.shape[0]),\n",
        "          ha='center')\n"
      ],
      "execution_count": 14,
      "outputs": [
        {
          "output_type": "error",
          "ename": "AttributeError",
          "evalue": "ignored",
          "traceback": [
            "\u001b[0;31m---------------------------------------------------------------------------\u001b[0m",
            "\u001b[0;31mAttributeError\u001b[0m                            Traceback (most recent call last)",
            "\u001b[0;32m<ipython-input-14-446c6ccd4037>\u001b[0m in \u001b[0;36m<module>\u001b[0;34m()\u001b[0m\n\u001b[1;32m     18\u001b[0m \u001b[0;34m\u001b[0m\u001b[0m\n\u001b[1;32m     19\u001b[0m \u001b[0;32mfor\u001b[0m \u001b[0mp\u001b[0m \u001b[0;32min\u001b[0m \u001b[0max\u001b[0m\u001b[0;34m.\u001b[0m\u001b[0mpatches\u001b[0m\u001b[0;34m:\u001b[0m\u001b[0;34m\u001b[0m\u001b[0;34m\u001b[0m\u001b[0m\n\u001b[0;32m---> 20\u001b[0;31m   \u001b[0mheight\u001b[0m\u001b[0;34m=\u001b[0m\u001b[0mp\u001b[0m\u001b[0;34m.\u001b[0m\u001b[0mheight\u001b[0m\u001b[0;34m(\u001b[0m\u001b[0;34m)\u001b[0m\u001b[0;34m\u001b[0m\u001b[0;34m\u001b[0m\u001b[0m\n\u001b[0m\u001b[1;32m     21\u001b[0m   ax.text(p.get_x()+p.get_width()/2.,\n\u001b[1;32m     22\u001b[0m           \u001b[0mheight\u001b[0m\u001b[0;34m+\u001b[0m\u001b[0;36m3\u001b[0m\u001b[0;34m,\u001b[0m\u001b[0;34m\u001b[0m\u001b[0;34m\u001b[0m\u001b[0m\n",
            "\u001b[0;31mAttributeError\u001b[0m: 'Rectangle' object has no attribute 'height'"
          ]
        },
        {
          "output_type": "display_data",
          "data": {
            "image/png": "[encoded data removed]",
            "text/plain": [
              "<Figure size 1440x360 with 1 Axes>"
            ]
          },
          "metadata": {
            "tags": []
          }
        }
      ]
    },
    {
      "cell_type": "markdown",
      "metadata": {
        "id": "TZqXIaNn8Z1s",
        "colab_type": "text"
      },
      "source": [
        "Green is Churn Yes:\n",
        "Red is Churn No:\n",
        "\n",
        "Month to month cotract has highest number of churn. Almost 40% churn.\n",
        "There seems to be signficance relationship between these variables.\n",
        "\n",
        "----------------------------------------\n",
        "**Chi-Squared Statistics :**\n",
        "\n",
        "X^2 = sum((Observed -Expected)^2/Expected)\n",
        "\n",
        "Chi-2 is hard to interpret. It only shows the signifiance of the relationship but it  does not show the strength of the relationship.\n",
        "\n",
        "Value of X^2 can become very large if there are too many categories because it does not normalize it.\n",
        "\n",
        "------------------------------------------\n",
        "\n",
        "**Cramer's V Test:**\n",
        "\n",
        "V= sqrt(chi2/(n*(min(C,R)-1))\n",
        "\n",
        "- n = Number fo samples/rows\n",
        "- C = Columns count\n",
        "- R = Rows count\n",
        "\n",
        "Here we have 2 rows and 3 columns.\n",
        "\n",
        "Cramer's V Test normalizes the large values of X^2. Value lies between 0 and 1.\n"
      ]
    },
    {
      "cell_type": "markdown",
      "metadata": {
        "id": "Ye31IZFK_8n7",
        "colab_type": "text"
      },
      "source": [
        "Input to a Chi-squared is a contingency table.\n",
        "\n",
        "Contingency Table is  used to summarize the relationship categorical values."
      ]
    },
    {
      "cell_type": "markdown",
      "metadata": {
        "id": "a3uKG94RBnsp",
        "colab_type": "text"
      },
      "source": [
        "### **Chi-2 Test**"
      ]
    },
    {
      "cell_type": "code",
      "metadata": {
        "id": "3XCE6u0vBWOi",
        "colab_type": "code",
        "outputId": "6a8de9fe-03d1-44bf-9b1b-e0eb12c654cf",
        "colab": {
          "base_uri": "https://localhost:8080/",
          "height": 194
        }
      },
      "source": [
        "pd.crosstab(index=churn_df['Contract'],columns=churn_df['Churn'], margins=True)"
      ],
      "execution_count": 18,
      "outputs": [
        {
          "output_type": "execute_result",
          "data": {
            "text/html": [
              "<div>\n",
              "<style scoped>\n",
              "    .dataframe tbody tr th:only-of-type {\n",
              "        vertical-align: middle;\n",
              "    }\n",
              "\n",
              "    .dataframe tbody tr th {\n",
              "        vertical-align: top;\n",
              "    }\n",
              "\n",
              "    .dataframe thead th {\n",
              "        text-align: right;\n",
              "    }\n",
              "</style>\n",
              "<table border=\"1\" class=\"dataframe\">\n",
              "  <thead>\n",
              "    <tr style=\"text-align: right;\">\n",
              "      <th>Churn</th>\n",
              "      <th>No</th>\n",
              "      <th>Yes</th>\n",
              "      <th>All</th>\n",
              "    </tr>\n",
              "    <tr>\n",
              "      <th>Contract</th>\n",
              "      <th></th>\n",
              "      <th></th>\n",
              "      <th></th>\n",
              "    </tr>\n",
              "  </thead>\n",
              "  <tbody>\n",
              "    <tr>\n",
              "      <th>Month-to-month</th>\n",
              "      <td>2220</td>\n",
              "      <td>1655</td>\n",
              "      <td>3875</td>\n",
              "    </tr>\n",
              "    <tr>\n",
              "      <th>One year</th>\n",
              "      <td>1307</td>\n",
              "      <td>166</td>\n",
              "      <td>1473</td>\n",
              "    </tr>\n",
              "    <tr>\n",
              "      <th>Two year</th>\n",
              "      <td>1647</td>\n",
              "      <td>48</td>\n",
              "      <td>1695</td>\n",
              "    </tr>\n",
              "    <tr>\n",
              "      <th>All</th>\n",
              "      <td>5174</td>\n",
              "      <td>1869</td>\n",
              "      <td>7043</td>\n",
              "    </tr>\n",
              "  </tbody>\n",
              "</table>\n",
              "</div>"
            ],
            "text/plain": [
              "Churn             No   Yes   All\n",
              "Contract                        \n",
              "Month-to-month  2220  1655  3875\n",
              "One year        1307   166  1473\n",
              "Two year        1647    48  1695\n",
              "All             5174  1869  7043"
            ]
          },
          "metadata": {
            "tags": []
          },
          "execution_count": 18
        }
      ]
    },
    {
      "cell_type": "code",
      "metadata": {
        "id": "tZBM4Gtl9rFO",
        "colab_type": "code",
        "colab": {}
      },
      "source": [
        "churn_contract_ct = pd.crosstab(index=churn_df['Contract'],columns=churn_df['Churn'])"
      ],
      "execution_count": 0,
      "outputs": []
    },
    {
      "cell_type": "code",
      "metadata": {
        "id": "ukkl3i2C9ysn",
        "colab_type": "code",
        "outputId": "17c74ec9-1d07-4a36-9ea8-115aedb0fcfc",
        "colab": {
          "base_uri": "https://localhost:8080/",
          "height": 164
        }
      },
      "source": [
        "churn_contract_ct"
      ],
      "execution_count": 21,
      "outputs": [
        {
          "output_type": "execute_result",
          "data": {
            "text/html": [
              "<div>\n",
              "<style scoped>\n",
              "    .dataframe tbody tr th:only-of-type {\n",
              "        vertical-align: middle;\n",
              "    }\n",
              "\n",
              "    .dataframe tbody tr th {\n",
              "        vertical-align: top;\n",
              "    }\n",
              "\n",
              "    .dataframe thead th {\n",
              "        text-align: right;\n",
              "    }\n",
              "</style>\n",
              "<table border=\"1\" class=\"dataframe\">\n",
              "  <thead>\n",
              "    <tr style=\"text-align: right;\">\n",
              "      <th>Churn</th>\n",
              "      <th>No</th>\n",
              "      <th>Yes</th>\n",
              "    </tr>\n",
              "    <tr>\n",
              "      <th>Contract</th>\n",
              "      <th></th>\n",
              "      <th></th>\n",
              "    </tr>\n",
              "  </thead>\n",
              "  <tbody>\n",
              "    <tr>\n",
              "      <th>Month-to-month</th>\n",
              "      <td>2220</td>\n",
              "      <td>1655</td>\n",
              "    </tr>\n",
              "    <tr>\n",
              "      <th>One year</th>\n",
              "      <td>1307</td>\n",
              "      <td>166</td>\n",
              "    </tr>\n",
              "    <tr>\n",
              "      <th>Two year</th>\n",
              "      <td>1647</td>\n",
              "      <td>48</td>\n",
              "    </tr>\n",
              "  </tbody>\n",
              "</table>\n",
              "</div>"
            ],
            "text/plain": [
              "Churn             No   Yes\n",
              "Contract                  \n",
              "Month-to-month  2220  1655\n",
              "One year        1307   166\n",
              "Two year        1647    48"
            ]
          },
          "metadata": {
            "tags": []
          },
          "execution_count": 21
        }
      ]
    },
    {
      "cell_type": "code",
      "metadata": {
        "id": "87tOdIze91DQ",
        "colab_type": "code",
        "outputId": "fd82594d-01ea-4a60-bcf9-09d8993cb5f9",
        "colab": {
          "base_uri": "https://localhost:8080/",
          "height": 35
        }
      },
      "source": [
        "churn_contract_ct.iloc[0].values"
      ],
      "execution_count": 22,
      "outputs": [
        {
          "output_type": "execute_result",
          "data": {
            "text/plain": [
              "array([2220, 1655])"
            ]
          },
          "metadata": {
            "tags": []
          },
          "execution_count": 22
        }
      ]
    },
    {
      "cell_type": "code",
      "metadata": {
        "id": "xyCcPPjdAWsv",
        "colab_type": "code",
        "colab": {}
      },
      "source": [
        "from scipy import stats\n",
        "\n",
        "chi2,p,dof,_=stats.chi2_contingency([churn_contract_ct.iloc[0].values,churn_contract_ct.iloc[1].values,churn_contract_ct.iloc[2].values])"
      ],
      "execution_count": 0,
      "outputs": []
    },
    {
      "cell_type": "code",
      "metadata": {
        "id": "EGYsLZ_rAxY6",
        "colab_type": "code",
        "outputId": "2a8ccc51-1fcb-42a7-d095-0c6e82233426",
        "colab": {
          "base_uri": "https://localhost:8080/",
          "height": 70
        }
      },
      "source": [
        "print ('chi-2 :', chi2)\n",
        "print ('p-values :', p)\n",
        "print ('Degree of freedom :', dof) # three categories hence 3-1 = 2\n"
      ],
      "execution_count": 25,
      "outputs": [
        {
          "output_type": "stream",
          "text": [
            "chi-2 : 1184.5965720837926\n",
            "p-values : 5.863038300673391e-258\n",
            "Degree of freedom : 2\n"
          ],
          "name": "stdout"
        }
      ]
    },
    {
      "cell_type": "markdown",
      "metadata": {
        "id": "xdpJo-tpBwFK",
        "colab_type": "text"
      },
      "source": [
        "### **Cramer's V Test** - Can be used for more than 2X2 Table"
      ]
    },
    {
      "cell_type": "markdown",
      "metadata": {
        "id": "uj1FkxuVDhky",
        "colab_type": "text"
      },
      "source": [
        "V= sqrt(chi2/(n*(min(C,R)-1)) \n",
        "\n",
        "Phi Coeff = sqrt(chi2/(n)) <------------- Another Statistical Test used for 2X2 table"
      ]
    },
    {
      "cell_type": "code",
      "metadata": {
        "id": "JEmvKJhNA9Ah",
        "colab_type": "code",
        "outputId": "de44a479-ca48-4672-ef49-1b76b1da78c0",
        "colab": {
          "base_uri": "https://localhost:8080/",
          "height": 35
        }
      },
      "source": [
        "np.sqrt(chi2/(churn_df.shape[0]*1))"
      ],
      "execution_count": 26,
      "outputs": [
        {
          "output_type": "execute_result",
          "data": {
            "text/plain": [
              "0.4101156965761409"
            ]
          },
          "metadata": {
            "tags": []
          },
          "execution_count": 26
        }
      ]
    },
    {
      "cell_type": "markdown",
      "metadata": {
        "id": "NArc2TXEChQX",
        "colab_type": "text"
      },
      "source": [
        "Here the relationship is close to 1.\n",
        "But in real world, we use multiple categorical varaibles so finally conclude on the strength of the relationship.\n",
        "\n",
        "We comapre the strength of multiple categorical relationship.\n",
        "\n"
      ]
    },
    {
      "cell_type": "code",
      "metadata": {
        "id": "OcP60lKuB-gS",
        "colab_type": "code",
        "outputId": "1d2e604a-c183-4cc6-9cc4-53012553aa0d",
        "colab": {
          "base_uri": "https://localhost:8080/",
          "height": 70
        }
      },
      "source": [
        "churn_df['PaperlessBilling'].value_counts()"
      ],
      "execution_count": 27,
      "outputs": [
        {
          "output_type": "execute_result",
          "data": {
            "text/plain": [
              "Yes    4171\n",
              "No     2872\n",
              "Name: PaperlessBilling, dtype: int64"
            ]
          },
          "metadata": {
            "tags": []
          },
          "execution_count": 27
        }
      ]
    },
    {
      "cell_type": "code",
      "metadata": {
        "id": "kAnME-2NDPyA",
        "colab_type": "code",
        "outputId": "3319537f-86f6-4258-ff98-be1b45ea6d8a",
        "colab": {
          "base_uri": "https://localhost:8080/",
          "height": 339
        }
      },
      "source": [
        "sns.set(style=\"darkgrid\")\n",
        "sns.set_palette(\"hls\",3)\n",
        "fig,ax = plt.subplots(figsize=(20,5))\n",
        "ax=sns.countplot(x=\"PaperlessBilling\",hue=\"Churn\",data=churn_df)\n",
        "\n",
        "for p in ax.patches:\n",
        "  height=p.get_height()\n",
        "  ax.text(p.get_x()+p.get_width()/2.,\n",
        "          height+3,\n",
        "          '{:1.2f}'.format(height/churn_df.shape[0]),\n",
        "          ha ='center')\n"
      ],
      "execution_count": 28,
      "outputs": [
        {
          "output_type": "display_data",
          "data": {
            "image/png": "[encoded data removed]",
            "text/plain": [
              "<Figure size 1440x360 with 1 Axes>"
            ]
          },
          "metadata": {
            "tags": []
          }
        }
      ]
    },
    {
      "cell_type": "code",
      "metadata": {
        "id": "RXVPv9wkD5qw",
        "colab_type": "code",
        "colab": {}
      },
      "source": [
        "churn_paper_ct = pd.crosstab(index=churn_df['PaperlessBilling'],columns=churn_df['Churn'])"
      ],
      "execution_count": 0,
      "outputs": []
    },
    {
      "cell_type": "code",
      "metadata": {
        "id": "EAYRQLgHEANx",
        "colab_type": "code",
        "outputId": "ae3cbaba-138e-4fbc-8642-9fb7fee0bc5b",
        "colab": {
          "base_uri": "https://localhost:8080/",
          "height": 135
        }
      },
      "source": [
        "churn_paper_ct"
      ],
      "execution_count": 30,
      "outputs": [
        {
          "output_type": "execute_result",
          "data": {
            "text/html": [
              "<div>\n",
              "<style scoped>\n",
              "    .dataframe tbody tr th:only-of-type {\n",
              "        vertical-align: middle;\n",
              "    }\n",
              "\n",
              "    .dataframe tbody tr th {\n",
              "        vertical-align: top;\n",
              "    }\n",
              "\n",
              "    .dataframe thead th {\n",
              "        text-align: right;\n",
              "    }\n",
              "</style>\n",
              "<table border=\"1\" class=\"dataframe\">\n",
              "  <thead>\n",
              "    <tr style=\"text-align: right;\">\n",
              "      <th>Churn</th>\n",
              "      <th>No</th>\n",
              "      <th>Yes</th>\n",
              "    </tr>\n",
              "    <tr>\n",
              "      <th>PaperlessBilling</th>\n",
              "      <th></th>\n",
              "      <th></th>\n",
              "    </tr>\n",
              "  </thead>\n",
              "  <tbody>\n",
              "    <tr>\n",
              "      <th>No</th>\n",
              "      <td>2403</td>\n",
              "      <td>469</td>\n",
              "    </tr>\n",
              "    <tr>\n",
              "      <th>Yes</th>\n",
              "      <td>2771</td>\n",
              "      <td>1400</td>\n",
              "    </tr>\n",
              "  </tbody>\n",
              "</table>\n",
              "</div>"
            ],
            "text/plain": [
              "Churn               No   Yes\n",
              "PaperlessBilling            \n",
              "No                2403   469\n",
              "Yes               2771  1400"
            ]
          },
          "metadata": {
            "tags": []
          },
          "execution_count": 30
        }
      ]
    },
    {
      "cell_type": "code",
      "metadata": {
        "id": "z-IUmy4pEBfr",
        "colab_type": "code",
        "colab": {}
      },
      "source": [
        "from scipy import stats\n",
        "\n",
        "chi2 , p , dof , _ = stats.chi2_contingency([churn_paper_ct.iloc[0].values,churn_paper_ct.iloc[1].values])"
      ],
      "execution_count": 0,
      "outputs": []
    },
    {
      "cell_type": "code",
      "metadata": {
        "id": "QTtKr-7gEIUD",
        "colab_type": "code",
        "outputId": "88826977-8578-473b-b459-25a506d958ef",
        "colab": {
          "base_uri": "https://localhost:8080/",
          "height": 70
        }
      },
      "source": [
        "print ('chi-2 :', chi2)\n",
        "print ('p-values :', p)\n",
        "print ('Degree of freedom :', dof) # three categories hence 3-1 = 2\n"
      ],
      "execution_count": 32,
      "outputs": [
        {
          "output_type": "stream",
          "text": [
            "chi-2 : 258.27764906707307\n",
            "p-values : 4.073354668665985e-58\n",
            "Degree of freedom : 1\n"
          ],
          "name": "stdout"
        }
      ]
    },
    {
      "cell_type": "code",
      "metadata": {
        "id": "L7O_hrArEKxa",
        "colab_type": "code",
        "outputId": "f5399e5f-8161-43dd-fb72-eda30853a268",
        "colab": {
          "base_uri": "https://localhost:8080/",
          "height": 35
        }
      },
      "source": [
        "np.sqrt(chi2/(churn_df.shape[0]*1))"
      ],
      "execution_count": 33,
      "outputs": [
        {
          "output_type": "execute_result",
          "data": {
            "text/plain": [
              "0.19149814355338285"
            ]
          },
          "metadata": {
            "tags": []
          },
          "execution_count": 33
        }
      ]
    },
    {
      "cell_type": "markdown",
      "metadata": {
        "id": "SmmgI1csEgQa",
        "colab_type": "text"
      },
      "source": [
        "This shows there is some significance but not very high significance"
      ]
    },
    {
      "cell_type": "code",
      "metadata": {
        "id": "Pp8XBRZfEQJj",
        "colab_type": "code",
        "outputId": "99f24ef8-3d21-495f-b4b5-c1aba4fe094f",
        "colab": {
          "base_uri": "https://localhost:8080/",
          "height": 339
        }
      },
      "source": [
        "sns.set(style=\"darkgrid\")\n",
        "sns.set_palette(\"hls\",3)\n",
        "fig,ax = plt.subplots(figsize=(20,5))\n",
        "ax=sns.countplot(x=\"gender\",hue=\"Churn\",data=churn_df)\n",
        "\n",
        "for p in ax.patches:\n",
        "  height=p.get_height()\n",
        "  ax.text(p.get_x()+p.get_width()/2.,\n",
        "          height+3,\n",
        "          '{:1.2f}'.format(height/churn_df.shape[0]),\n",
        "          ha ='center')\n"
      ],
      "execution_count": 34,
      "outputs": [
        {
          "output_type": "display_data",
          "data": {
            "image/png": "[encoded data removed]",
            "text/plain": [
              "<Figure size 1440x360 with 1 Axes>"
            ]
          },
          "metadata": {
            "tags": []
          }
        }
      ]
    },
    {
      "cell_type": "code",
      "metadata": {
        "id": "T4vinpM3E_cb",
        "colab_type": "code",
        "colab": {}
      },
      "source": [
        "churn_gender_ct=pd.crosstab(index=churn_df['gender'],columns=churn_df['Churn'])"
      ],
      "execution_count": 0,
      "outputs": []
    },
    {
      "cell_type": "code",
      "metadata": {
        "id": "wcIxkaGjFJs_",
        "colab_type": "code",
        "outputId": "7cec3001-e7a1-4c18-a0f3-da581c82b5b7",
        "colab": {
          "base_uri": "https://localhost:8080/",
          "height": 135
        }
      },
      "source": [
        "churn_gender_ct"
      ],
      "execution_count": 36,
      "outputs": [
        {
          "output_type": "execute_result",
          "data": {
            "text/html": [
              "<div>\n",
              "<style scoped>\n",
              "    .dataframe tbody tr th:only-of-type {\n",
              "        vertical-align: middle;\n",
              "    }\n",
              "\n",
              "    .dataframe tbody tr th {\n",
              "        vertical-align: top;\n",
              "    }\n",
              "\n",
              "    .dataframe thead th {\n",
              "        text-align: right;\n",
              "    }\n",
              "</style>\n",
              "<table border=\"1\" class=\"dataframe\">\n",
              "  <thead>\n",
              "    <tr style=\"text-align: right;\">\n",
              "      <th>Churn</th>\n",
              "      <th>No</th>\n",
              "      <th>Yes</th>\n",
              "    </tr>\n",
              "    <tr>\n",
              "      <th>gender</th>\n",
              "      <th></th>\n",
              "      <th></th>\n",
              "    </tr>\n",
              "  </thead>\n",
              "  <tbody>\n",
              "    <tr>\n",
              "      <th>Female</th>\n",
              "      <td>2549</td>\n",
              "      <td>939</td>\n",
              "    </tr>\n",
              "    <tr>\n",
              "      <th>Male</th>\n",
              "      <td>2625</td>\n",
              "      <td>930</td>\n",
              "    </tr>\n",
              "  </tbody>\n",
              "</table>\n",
              "</div>"
            ],
            "text/plain": [
              "Churn     No  Yes\n",
              "gender           \n",
              "Female  2549  939\n",
              "Male    2625  930"
            ]
          },
          "metadata": {
            "tags": []
          },
          "execution_count": 36
        }
      ]
    },
    {
      "cell_type": "code",
      "metadata": {
        "id": "TOgKMGRjFNGk",
        "colab_type": "code",
        "colab": {}
      },
      "source": [
        "chi2 , p , dof , _ = stats.chi2_contingency([churn_gender_ct.iloc[0].values,churn_gender_ct.iloc[1].values])"
      ],
      "execution_count": 0,
      "outputs": []
    },
    {
      "cell_type": "code",
      "metadata": {
        "id": "2KEBg5z1FY1S",
        "colab_type": "code",
        "outputId": "5f11fe97-4029-4f36-897d-f234490959f2",
        "colab": {
          "base_uri": "https://localhost:8080/",
          "height": 70
        }
      },
      "source": [
        "print('chi2 :' ,chi2)\n",
        "print('P-value :' ,chi2)\n",
        "print('Degree of Freedom :' ,chi2)"
      ],
      "execution_count": 38,
      "outputs": [
        {
          "output_type": "stream",
          "text": [
            "chi2 : 0.4840828822091383\n",
            "P-value : 0.4840828822091383\n",
            "Degree of Freedom : 0.4840828822091383\n"
          ],
          "name": "stdout"
        }
      ]
    },
    {
      "cell_type": "code",
      "metadata": {
        "id": "jedsM9ujFg8H",
        "colab_type": "code",
        "outputId": "78ec7826-93bf-41b7-fa0e-fca3fd69d9f4",
        "colab": {
          "base_uri": "https://localhost:8080/",
          "height": 35
        }
      },
      "source": [
        "np.sqrt(chi2/churn_df.shape[0])"
      ],
      "execution_count": 39,
      "outputs": [
        {
          "output_type": "execute_result",
          "data": {
            "text/plain": [
              "0.008290505631771371"
            ]
          },
          "metadata": {
            "tags": []
          },
          "execution_count": 39
        }
      ]
    },
    {
      "cell_type": "markdown",
      "metadata": {
        "id": "DqeJSFHUFsa0",
        "colab_type": "text"
      },
      "source": [
        "Here the gender column is not significant as we failed to reject the null hypothesis. Since p-values is large compared to the alpha.\n",
        "\n",
        "Also, the cramer's V value is also very low."
      ]
    }
  ]
}