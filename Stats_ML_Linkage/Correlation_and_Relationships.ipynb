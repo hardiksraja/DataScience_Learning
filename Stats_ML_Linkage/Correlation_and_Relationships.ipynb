{
  "nbformat": 4,
  "nbformat_minor": 0,
  "metadata": {
    "colab": {
      "name": "Correlation and Relationships.ipynb",
      "provenance": [],
      "collapsed_sections": [],
      "include_colab_link": true
    },
    "kernelspec": {
      "name": "python3",
      "display_name": "Python 3"
    }
  },
  "cells": [
    {
      "cell_type": "markdown",
      "metadata": {
        "id": "view-in-github",
        "colab_type": "text"
      },
      "source": [
        "<a href=\"https://colab.research.google.com/github/hardiksraja/DataScience_Learning/blob/master/Stats_ML_Linkage/Correlation_and_Relationships.ipynb\" target=\"_parent\"><img src=\"https://colab.research.google.com/assets/colab-badge.svg\" alt=\"Open In Colab\"/></a>"
      ]
    },
    {
      "cell_type": "markdown",
      "metadata": {
        "id": "Z2GKXEX2x4Ar",
        "colab_type": "text"
      },
      "source": [
        "**Statistics alone cannot conclude anything. ALl the tests we do are based on relative liklihood**\n",
        "* Here we will be seeing and visualizing different relationship between the features in a dataset. \n",
        "* Now a relationship can be linear,non_linear, monotonic or thre can be no relationship at all.\n",
        "* We will also see how to assess the strength of the relatioship.\n",
        "* Idea about polynomial and segmentation\n",
        "* in real world scnario there is no linear relationship  but a curviliniar relationship "
      ]
    },
    {
      "cell_type": "code",
      "metadata": {
        "id": "nFOrVyK9vkTt",
        "colab_type": "code",
        "colab": {
          "base_uri": "https://localhost:8080/",
          "height": 52
        },
        "outputId": "a984b5e4-47fa-4a11-d025-4ca7688d5501"
      },
      "source": [
        "import pandas as pd \n",
        "import numpy as np\n",
        "import seaborn as sns\n",
        "import matplotlib.pyplot as plt"
      ],
      "execution_count": 1,
      "outputs": [
        {
          "output_type": "stream",
          "text": [
            "/usr/local/lib/python3.6/dist-packages/statsmodels/tools/_testing.py:19: FutureWarning: pandas.util.testing is deprecated. Use the functions in the public API at pandas.testing instead.\n",
            "  import pandas.util.testing as tm\n"
          ],
          "name": "stderr"
        }
      ]
    },
    {
      "cell_type": "code",
      "metadata": {
        "id": "F78emjUBwuWO",
        "colab_type": "code",
        "colab": {}
      },
      "source": [
        "loan_df = pd.read_csv('https://raw.githubusercontent.com/hardiksraja/DataScience_Learning/master/Stats_ML_Linkage/datasets/loan_analysis_summary.csv')"
      ],
      "execution_count": 0,
      "outputs": []
    },
    {
      "cell_type": "code",
      "metadata": {
        "id": "jvgFvMwd2Cff",
        "colab_type": "code",
        "outputId": "1a618d5e-ddea-4082-b536-ef71c3c85801",
        "colab": {
          "base_uri": "https://localhost:8080/",
          "height": 194
        }
      },
      "source": [
        "loan_df.head()"
      ],
      "execution_count": 3,
      "outputs": [
        {
          "output_type": "execute_result",
          "data": {
            "text/html": [
              "<div>\n",
              "<style scoped>\n",
              "    .dataframe tbody tr th:only-of-type {\n",
              "        vertical-align: middle;\n",
              "    }\n",
              "\n",
              "    .dataframe tbody tr th {\n",
              "        vertical-align: top;\n",
              "    }\n",
              "\n",
              "    .dataframe thead th {\n",
              "        text-align: right;\n",
              "    }\n",
              "</style>\n",
              "<table border=\"1\" class=\"dataframe\">\n",
              "  <thead>\n",
              "    <tr style=\"text-align: right;\">\n",
              "      <th></th>\n",
              "      <th>fico_score</th>\n",
              "      <th>loan_total</th>\n",
              "      <th>default_total</th>\n",
              "      <th>dti</th>\n",
              "      <th>avg_loan_amnt</th>\n",
              "      <th>median_annual_inc</th>\n",
              "      <th>avg_annual_inc</th>\n",
              "      <th>int_rate</th>\n",
              "      <th>default_rate</th>\n",
              "      <th>actual_default_rate</th>\n",
              "    </tr>\n",
              "  </thead>\n",
              "  <tbody>\n",
              "    <tr>\n",
              "      <th>0</th>\n",
              "      <td>500</td>\n",
              "      <td>3585</td>\n",
              "      <td>3183</td>\n",
              "      <td>19.737013</td>\n",
              "      <td>13660.71827</td>\n",
              "      <td>55000</td>\n",
              "      <td>63396.10292</td>\n",
              "      <td>15.352285</td>\n",
              "      <td>2.463470</td>\n",
              "      <td>0.520266</td>\n",
              "    </tr>\n",
              "    <tr>\n",
              "      <th>1</th>\n",
              "      <td>510</td>\n",
              "      <td>8223</td>\n",
              "      <td>7191</td>\n",
              "      <td>19.747810</td>\n",
              "      <td>13889.67226</td>\n",
              "      <td>56000</td>\n",
              "      <td>65446.52263</td>\n",
              "      <td>15.440212</td>\n",
              "      <td>5.565445</td>\n",
              "      <td>1.175378</td>\n",
              "    </tr>\n",
              "    <tr>\n",
              "      <th>2</th>\n",
              "      <td>520</td>\n",
              "      <td>9792</td>\n",
              "      <td>8370</td>\n",
              "      <td>20.085761</td>\n",
              "      <td>14186.13920</td>\n",
              "      <td>58728</td>\n",
              "      <td>68261.38708</td>\n",
              "      <td>15.312451</td>\n",
              "      <td>6.477927</td>\n",
              "      <td>1.368087</td>\n",
              "    </tr>\n",
              "    <tr>\n",
              "      <th>3</th>\n",
              "      <td>530</td>\n",
              "      <td>10984</td>\n",
              "      <td>9254</td>\n",
              "      <td>20.253199</td>\n",
              "      <td>14487.00838</td>\n",
              "      <td>60000</td>\n",
              "      <td>69041.52340</td>\n",
              "      <td>15.449011</td>\n",
              "      <td>7.162095</td>\n",
              "      <td>1.512578</td>\n",
              "    </tr>\n",
              "    <tr>\n",
              "      <th>4</th>\n",
              "      <td>540</td>\n",
              "      <td>12333</td>\n",
              "      <td>10127</td>\n",
              "      <td>20.770446</td>\n",
              "      <td>14756.36706</td>\n",
              "      <td>60000</td>\n",
              "      <td>69948.95243</td>\n",
              "      <td>15.271022</td>\n",
              "      <td>7.837750</td>\n",
              "      <td>1.655271</td>\n",
              "    </tr>\n",
              "  </tbody>\n",
              "</table>\n",
              "</div>"
            ],
            "text/plain": [
              "   fico_score  loan_total  ...  default_rate  actual_default_rate\n",
              "0         500        3585  ...      2.463470             0.520266\n",
              "1         510        8223  ...      5.565445             1.175378\n",
              "2         520        9792  ...      6.477927             1.368087\n",
              "3         530       10984  ...      7.162095             1.512578\n",
              "4         540       12333  ...      7.837750             1.655271\n",
              "\n",
              "[5 rows x 10 columns]"
            ]
          },
          "metadata": {
            "tags": []
          },
          "execution_count": 3
        }
      ]
    },
    {
      "cell_type": "markdown",
      "metadata": {
        "id": "Up1eHdQ8Tr5B",
        "colab_type": "text"
      },
      "source": [
        "1. **fico_score** : it tells credit worthiness of an individual\n",
        "* so when and individual wants to take a unsecured loan like home loan or credit for mortgagee the bank looks as your credit score.\n",
        "\n",
        "* More fico score mean more cerdit worthiness and it typically ranges from 300 to 850\n",
        "* banks essentially does not lend money to all fico score.\n",
        "  * 650 and above score is considered as prime \n",
        "  * 500 and below is conisdered sub prime (higher interest rate in borrowing) \n",
        "\n",
        "2. **loan_total** : number of loans within that fico score\n",
        "3. **default_total** : defaulted loan against the fico score. How many customer in this fico_score bucket has defaulted\n",
        "4. **dti** *(depth to income ratio)* : how much depth the user have against the income (E.g., income of $1000 and depth of \\$300 ==> dti = 30% ) This is average dti across the fico score\n",
        "--------------------------------------------------------------\n",
        "*Lower the fico_score , higher the int_rate in dataset People with better credit score will have better dti*\n",
        "\n",
        "--------------------------------------------------------------\n",
        "*For lower fico score default total will be a little higher*\n",
        "\n"
      ]
    },
    {
      "cell_type": "markdown",
      "metadata": {
        "id": "NwumCBi3d8aG",
        "colab_type": "text"
      },
      "source": [
        "The data set is a combination of discrete and continous variables.\n",
        "**Loan total** and **Default_total** are countable value --> Discrete variable \n",
        "1. If you have any discrete variable and you want include it in any statistical function or regression or ANOVA model. You can decide whether you want to include it as a continous predictor or a categorical predictor.\n",
        "2.\n",
        "  * If the discrete values in the discrete varibale are low. Treat it as categorical predictor.\n",
        "  * If the discrete values in the discrete varibale are high. Treat it as continuous predictor.\n",
        "\n",
        "It all depends on how you want to represent that particular value and the test you are doing."
      ]
    },
    {
      "cell_type": "code",
      "metadata": {
        "id": "3qavdUpM2FK8",
        "colab_type": "code",
        "outputId": "6cd67ba6-8b5a-4b13-bff1-d994d4de3150",
        "colab": {
          "base_uri": "https://localhost:8080/",
          "height": 282
        }
      },
      "source": [
        "loan_df.describe()"
      ],
      "execution_count": 4,
      "outputs": [
        {
          "output_type": "execute_result",
          "data": {
            "text/html": [
              "<div>\n",
              "<style scoped>\n",
              "    .dataframe tbody tr th:only-of-type {\n",
              "        vertical-align: middle;\n",
              "    }\n",
              "\n",
              "    .dataframe tbody tr th {\n",
              "        vertical-align: top;\n",
              "    }\n",
              "\n",
              "    .dataframe thead th {\n",
              "        text-align: right;\n",
              "    }\n",
              "</style>\n",
              "<table border=\"1\" class=\"dataframe\">\n",
              "  <thead>\n",
              "    <tr style=\"text-align: right;\">\n",
              "      <th></th>\n",
              "      <th>fico_score</th>\n",
              "      <th>loan_total</th>\n",
              "      <th>default_total</th>\n",
              "      <th>dti</th>\n",
              "      <th>avg_loan_amnt</th>\n",
              "      <th>median_annual_inc</th>\n",
              "      <th>avg_annual_inc</th>\n",
              "      <th>int_rate</th>\n",
              "      <th>default_rate</th>\n",
              "      <th>actual_default_rate</th>\n",
              "    </tr>\n",
              "  </thead>\n",
              "  <tbody>\n",
              "    <tr>\n",
              "      <th>count</th>\n",
              "      <td>36.000000</td>\n",
              "      <td>36.000000</td>\n",
              "      <td>36.000000</td>\n",
              "      <td>36.000000</td>\n",
              "      <td>36.000000</td>\n",
              "      <td>36.000000</td>\n",
              "      <td>36.000000</td>\n",
              "      <td>36.000000</td>\n",
              "      <td>36.000000</td>\n",
              "      <td>36.000000</td>\n",
              "    </tr>\n",
              "    <tr>\n",
              "      <th>mean</th>\n",
              "      <td>675.000000</td>\n",
              "      <td>16994.527778</td>\n",
              "      <td>3589.111111</td>\n",
              "      <td>18.790417</td>\n",
              "      <td>15088.569697</td>\n",
              "      <td>65678.583333</td>\n",
              "      <td>77391.960108</td>\n",
              "      <td>12.520384</td>\n",
              "      <td>2.777778</td>\n",
              "      <td>0.586645</td>\n",
              "    </tr>\n",
              "    <tr>\n",
              "      <th>std</th>\n",
              "      <td>105.356538</td>\n",
              "      <td>11917.752515</td>\n",
              "      <td>3512.765608</td>\n",
              "      <td>1.690671</td>\n",
              "      <td>1633.584599</td>\n",
              "      <td>6846.614297</td>\n",
              "      <td>8038.473538</td>\n",
              "      <td>2.560128</td>\n",
              "      <td>2.718690</td>\n",
              "      <td>0.574166</td>\n",
              "    </tr>\n",
              "    <tr>\n",
              "      <th>min</th>\n",
              "      <td>500.000000</td>\n",
              "      <td>124.000000</td>\n",
              "      <td>3.000000</td>\n",
              "      <td>14.676210</td>\n",
              "      <td>12994.231600</td>\n",
              "      <td>55000.000000</td>\n",
              "      <td>63396.102920</td>\n",
              "      <td>7.585562</td>\n",
              "      <td>0.002322</td>\n",
              "      <td>0.000490</td>\n",
              "    </tr>\n",
              "    <tr>\n",
              "      <th>25%</th>\n",
              "      <td>587.500000</td>\n",
              "      <td>10452.750000</td>\n",
              "      <td>214.250000</td>\n",
              "      <td>17.650570</td>\n",
              "      <td>14038.181180</td>\n",
              "      <td>61297.500000</td>\n",
              "      <td>72364.301710</td>\n",
              "      <td>10.453639</td>\n",
              "      <td>0.165818</td>\n",
              "      <td>0.035019</td>\n",
              "    </tr>\n",
              "    <tr>\n",
              "      <th>50%</th>\n",
              "      <td>675.000000</td>\n",
              "      <td>12519.500000</td>\n",
              "      <td>2886.500000</td>\n",
              "      <td>19.083851</td>\n",
              "      <td>14857.024775</td>\n",
              "      <td>63000.000000</td>\n",
              "      <td>74919.065440</td>\n",
              "      <td>13.556549</td>\n",
              "      <td>2.233995</td>\n",
              "      <td>0.471802</td>\n",
              "    </tr>\n",
              "    <tr>\n",
              "      <th>75%</th>\n",
              "      <td>762.500000</td>\n",
              "      <td>23774.500000</td>\n",
              "      <td>6123.750000</td>\n",
              "      <td>20.165171</td>\n",
              "      <td>15353.673887</td>\n",
              "      <td>68250.000000</td>\n",
              "      <td>80706.824483</td>\n",
              "      <td>14.732548</td>\n",
              "      <td>4.739451</td>\n",
              "      <td>1.000935</td>\n",
              "    </tr>\n",
              "    <tr>\n",
              "      <th>max</th>\n",
              "      <td>850.000000</td>\n",
              "      <td>40444.000000</td>\n",
              "      <td>10164.000000</td>\n",
              "      <td>20.974137</td>\n",
              "      <td>20082.459680</td>\n",
              "      <td>83750.000000</td>\n",
              "      <td>98683.805750</td>\n",
              "      <td>15.449011</td>\n",
              "      <td>7.866386</td>\n",
              "      <td>1.661319</td>\n",
              "    </tr>\n",
              "  </tbody>\n",
              "</table>\n",
              "</div>"
            ],
            "text/plain": [
              "       fico_score    loan_total  ...  default_rate  actual_default_rate\n",
              "count   36.000000     36.000000  ...     36.000000            36.000000\n",
              "mean   675.000000  16994.527778  ...      2.777778             0.586645\n",
              "std    105.356538  11917.752515  ...      2.718690             0.574166\n",
              "min    500.000000    124.000000  ...      0.002322             0.000490\n",
              "25%    587.500000  10452.750000  ...      0.165818             0.035019\n",
              "50%    675.000000  12519.500000  ...      2.233995             0.471802\n",
              "75%    762.500000  23774.500000  ...      4.739451             1.000935\n",
              "max    850.000000  40444.000000  ...      7.866386             1.661319\n",
              "\n",
              "[8 rows x 10 columns]"
            ]
          },
          "metadata": {
            "tags": []
          },
          "execution_count": 4
        }
      ]
    },
    {
      "cell_type": "code",
      "metadata": {
        "id": "Di1tN6X_alUj",
        "colab_type": "code",
        "outputId": "46fce7d7-5143-40ec-e7ac-cc613a7e127e",
        "colab": {
          "base_uri": "https://localhost:8080/",
          "height": 35
        }
      },
      "source": [
        "loan_df.shape"
      ],
      "execution_count": 5,
      "outputs": [
        {
          "output_type": "execute_result",
          "data": {
            "text/plain": [
              "(36, 10)"
            ]
          },
          "metadata": {
            "tags": []
          },
          "execution_count": 5
        }
      ]
    },
    {
      "cell_type": "markdown",
      "metadata": {
        "id": "AmcuZ8oDgDe7",
        "colab_type": "text"
      },
      "source": [
        "There are two ways to measure a relationship (i) Covariance (ii) Correlation\n",
        "\n",
        "1. Covariance is not a standardized value\n",
        "  * Covariance  : It is used to show the direction of the relationship. -ve covariance shows -ve relations and +ve shows +ve relationship.\n",
        "  * Can range from + infinity to - infinity. \n",
        "  * The value of perfect relationsip in covariance is purely based on the data. No single correct way to conclude about the relationship. \n",
        "2. Correlation is standarized value between -1 and +1.\n",
        "+1 : if there is prefect +ve relationship\n",
        "-1 :  if ther is perfect -ve relationship"
      ]
    },
    {
      "cell_type": "code",
      "metadata": {
        "id": "bwDIYIzG2I0M",
        "colab_type": "code",
        "outputId": "85eba673-df52-4c17-90fd-c279fca7c52b",
        "colab": {
          "base_uri": "https://localhost:8080/",
          "height": 340
        }
      },
      "source": [
        "loan_df.cov()"
      ],
      "execution_count": 6,
      "outputs": [
        {
          "output_type": "execute_result",
          "data": {
            "text/html": [
              "<div>\n",
              "<style scoped>\n",
              "    .dataframe tbody tr th:only-of-type {\n",
              "        vertical-align: middle;\n",
              "    }\n",
              "\n",
              "    .dataframe tbody tr th {\n",
              "        vertical-align: top;\n",
              "    }\n",
              "\n",
              "    .dataframe thead th {\n",
              "        text-align: right;\n",
              "    }\n",
              "</style>\n",
              "<table border=\"1\" class=\"dataframe\">\n",
              "  <thead>\n",
              "    <tr style=\"text-align: right;\">\n",
              "      <th></th>\n",
              "      <th>fico_score</th>\n",
              "      <th>loan_total</th>\n",
              "      <th>default_total</th>\n",
              "      <th>dti</th>\n",
              "      <th>avg_loan_amnt</th>\n",
              "      <th>median_annual_inc</th>\n",
              "      <th>avg_annual_inc</th>\n",
              "      <th>int_rate</th>\n",
              "      <th>default_rate</th>\n",
              "      <th>actual_default_rate</th>\n",
              "    </tr>\n",
              "  </thead>\n",
              "  <tbody>\n",
              "    <tr>\n",
              "      <th>fico_score</th>\n",
              "      <td>11100.000000</td>\n",
              "      <td>8.431757e+04</td>\n",
              "      <td>-3.281917e+05</td>\n",
              "      <td>-164.562715</td>\n",
              "      <td>1.179751e+05</td>\n",
              "      <td>6.540867e+05</td>\n",
              "      <td>7.851304e+05</td>\n",
              "      <td>-261.372425</td>\n",
              "      <td>-254.002627</td>\n",
              "      <td>-53.643365</td>\n",
              "    </tr>\n",
              "    <tr>\n",
              "      <th>loan_total</th>\n",
              "      <td>84317.571429</td>\n",
              "      <td>1.420328e+08</td>\n",
              "      <td>-6.117364e+06</td>\n",
              "      <td>2841.802408</td>\n",
              "      <td>-9.263903e+06</td>\n",
              "      <td>-1.233279e+07</td>\n",
              "      <td>-9.045332e+06</td>\n",
              "      <td>3454.737681</td>\n",
              "      <td>-4734.508923</td>\n",
              "      <td>-999.891190</td>\n",
              "    </tr>\n",
              "    <tr>\n",
              "      <th>default_total</th>\n",
              "      <td>-328191.714286</td>\n",
              "      <td>-6.117364e+06</td>\n",
              "      <td>1.233952e+07</td>\n",
              "      <td>5018.669412</td>\n",
              "      <td>-2.542762e+06</td>\n",
              "      <td>-1.726291e+07</td>\n",
              "      <td>-2.094780e+07</td>\n",
              "      <td>7646.662485</td>\n",
              "      <td>9550.122450</td>\n",
              "      <td>2016.911035</td>\n",
              "    </tr>\n",
              "    <tr>\n",
              "      <th>dti</th>\n",
              "      <td>-164.562715</td>\n",
              "      <td>2.841802e+03</td>\n",
              "      <td>5.018669e+03</td>\n",
              "      <td>2.858369</td>\n",
              "      <td>-2.164641e+03</td>\n",
              "      <td>-1.040763e+04</td>\n",
              "      <td>-1.219916e+04</td>\n",
              "      <td>4.167275</td>\n",
              "      <td>3.884179</td>\n",
              "      <td>0.820308</td>\n",
              "    </tr>\n",
              "    <tr>\n",
              "      <th>avg_loan_amnt</th>\n",
              "      <td>117975.085123</td>\n",
              "      <td>-9.263903e+06</td>\n",
              "      <td>-2.542762e+06</td>\n",
              "      <td>-2164.640693</td>\n",
              "      <td>2.668599e+06</td>\n",
              "      <td>9.564547e+06</td>\n",
              "      <td>1.092982e+07</td>\n",
              "      <td>-3359.878600</td>\n",
              "      <td>-1967.960087</td>\n",
              "      <td>-415.617751</td>\n",
              "    </tr>\n",
              "    <tr>\n",
              "      <th>median_annual_inc</th>\n",
              "      <td>654086.714286</td>\n",
              "      <td>-1.233279e+07</td>\n",
              "      <td>-1.726291e+07</td>\n",
              "      <td>-10407.631551</td>\n",
              "      <td>9.564547e+06</td>\n",
              "      <td>4.687613e+07</td>\n",
              "      <td>5.457827e+07</td>\n",
              "      <td>-16564.670539</td>\n",
              "      <td>-13360.560742</td>\n",
              "      <td>-2821.645746</td>\n",
              "    </tr>\n",
              "    <tr>\n",
              "      <th>avg_annual_inc</th>\n",
              "      <td>785130.353840</td>\n",
              "      <td>-9.045332e+06</td>\n",
              "      <td>-2.094780e+07</td>\n",
              "      <td>-12199.161949</td>\n",
              "      <td>1.092982e+07</td>\n",
              "      <td>5.457827e+07</td>\n",
              "      <td>6.461706e+07</td>\n",
              "      <td>-19471.216732</td>\n",
              "      <td>-16212.465719</td>\n",
              "      <td>-3423.945732</td>\n",
              "    </tr>\n",
              "    <tr>\n",
              "      <th>int_rate</th>\n",
              "      <td>-261.372425</td>\n",
              "      <td>3.454738e+03</td>\n",
              "      <td>7.646662e+03</td>\n",
              "      <td>4.167275</td>\n",
              "      <td>-3.359879e+03</td>\n",
              "      <td>-1.656467e+04</td>\n",
              "      <td>-1.947122e+04</td>\n",
              "      <td>6.554256</td>\n",
              "      <td>5.918103</td>\n",
              "      <td>1.249857</td>\n",
              "    </tr>\n",
              "    <tr>\n",
              "      <th>default_rate</th>\n",
              "      <td>-254.002627</td>\n",
              "      <td>-4.734509e+03</td>\n",
              "      <td>9.550122e+03</td>\n",
              "      <td>3.884179</td>\n",
              "      <td>-1.967960e+03</td>\n",
              "      <td>-1.336056e+04</td>\n",
              "      <td>-1.621247e+04</td>\n",
              "      <td>5.918103</td>\n",
              "      <td>7.391278</td>\n",
              "      <td>1.560980</td>\n",
              "    </tr>\n",
              "    <tr>\n",
              "      <th>actual_default_rate</th>\n",
              "      <td>-53.643365</td>\n",
              "      <td>-9.998912e+02</td>\n",
              "      <td>2.016911e+03</td>\n",
              "      <td>0.820308</td>\n",
              "      <td>-4.156178e+02</td>\n",
              "      <td>-2.821646e+03</td>\n",
              "      <td>-3.423946e+03</td>\n",
              "      <td>1.249857</td>\n",
              "      <td>1.560980</td>\n",
              "      <td>0.329667</td>\n",
              "    </tr>\n",
              "  </tbody>\n",
              "</table>\n",
              "</div>"
            ],
            "text/plain": [
              "                        fico_score  ...  actual_default_rate\n",
              "fico_score            11100.000000  ...           -53.643365\n",
              "loan_total            84317.571429  ...          -999.891190\n",
              "default_total       -328191.714286  ...          2016.911035\n",
              "dti                    -164.562715  ...             0.820308\n",
              "avg_loan_amnt        117975.085123  ...          -415.617751\n",
              "median_annual_inc    654086.714286  ...         -2821.645746\n",
              "avg_annual_inc       785130.353840  ...         -3423.945732\n",
              "int_rate               -261.372425  ...             1.249857\n",
              "default_rate           -254.002627  ...             1.560980\n",
              "actual_default_rate     -53.643365  ...             0.329667\n",
              "\n",
              "[10 rows x 10 columns]"
            ]
          },
          "metadata": {
            "tags": []
          },
          "execution_count": 6
        }
      ]
    },
    {
      "cell_type": "markdown",
      "metadata": {
        "id": "jHoDYEKCixYD",
        "colab_type": "text"
      },
      "source": [
        "1. Positive relationship between fico score and loan_total \n",
        "2. Negative relationship between fico score and dti\n",
        "\n",
        "But here we are not getting the strength of the relationship.\n",
        "Hence correlation is required.\n"
      ]
    },
    {
      "cell_type": "code",
      "metadata": {
        "id": "Cm17_FhC2Mte",
        "colab_type": "code",
        "outputId": "7bd5cd47-9c8a-4085-ab86-99eb9adbfd41",
        "colab": {
          "base_uri": "https://localhost:8080/",
          "height": 340
        }
      },
      "source": [
        "loan_df.corr() # correlation is good measure to understand the relation."
      ],
      "execution_count": 7,
      "outputs": [
        {
          "output_type": "execute_result",
          "data": {
            "text/html": [
              "<div>\n",
              "<style scoped>\n",
              "    .dataframe tbody tr th:only-of-type {\n",
              "        vertical-align: middle;\n",
              "    }\n",
              "\n",
              "    .dataframe tbody tr th {\n",
              "        vertical-align: top;\n",
              "    }\n",
              "\n",
              "    .dataframe thead th {\n",
              "        text-align: right;\n",
              "    }\n",
              "</style>\n",
              "<table border=\"1\" class=\"dataframe\">\n",
              "  <thead>\n",
              "    <tr style=\"text-align: right;\">\n",
              "      <th></th>\n",
              "      <th>fico_score</th>\n",
              "      <th>loan_total</th>\n",
              "      <th>default_total</th>\n",
              "      <th>dti</th>\n",
              "      <th>avg_loan_amnt</th>\n",
              "      <th>median_annual_inc</th>\n",
              "      <th>avg_annual_inc</th>\n",
              "      <th>int_rate</th>\n",
              "      <th>default_rate</th>\n",
              "      <th>actual_default_rate</th>\n",
              "    </tr>\n",
              "  </thead>\n",
              "  <tbody>\n",
              "    <tr>\n",
              "      <th>fico_score</th>\n",
              "      <td>1.000000</td>\n",
              "      <td>0.067153</td>\n",
              "      <td>-0.886782</td>\n",
              "      <td>-0.923870</td>\n",
              "      <td>0.685468</td>\n",
              "      <td>0.906772</td>\n",
              "      <td>0.927058</td>\n",
              "      <td>-0.969029</td>\n",
              "      <td>-0.886782</td>\n",
              "      <td>-0.886782</td>\n",
              "    </tr>\n",
              "    <tr>\n",
              "      <th>loan_total</th>\n",
              "      <td>0.067153</td>\n",
              "      <td>1.000000</td>\n",
              "      <td>-0.146124</td>\n",
              "      <td>0.141039</td>\n",
              "      <td>-0.475837</td>\n",
              "      <td>-0.151144</td>\n",
              "      <td>-0.094418</td>\n",
              "      <td>0.113229</td>\n",
              "      <td>-0.146124</td>\n",
              "      <td>-0.146124</td>\n",
              "    </tr>\n",
              "    <tr>\n",
              "      <th>default_total</th>\n",
              "      <td>-0.886782</td>\n",
              "      <td>-0.146124</td>\n",
              "      <td>1.000000</td>\n",
              "      <td>0.845046</td>\n",
              "      <td>-0.443113</td>\n",
              "      <td>-0.717776</td>\n",
              "      <td>-0.741849</td>\n",
              "      <td>0.850278</td>\n",
              "      <td>1.000000</td>\n",
              "      <td>1.000000</td>\n",
              "    </tr>\n",
              "    <tr>\n",
              "      <th>dti</th>\n",
              "      <td>-0.923870</td>\n",
              "      <td>0.141039</td>\n",
              "      <td>0.845046</td>\n",
              "      <td>1.000000</td>\n",
              "      <td>-0.783764</td>\n",
              "      <td>-0.899118</td>\n",
              "      <td>-0.897630</td>\n",
              "      <td>0.962789</td>\n",
              "      <td>0.845046</td>\n",
              "      <td>0.845046</td>\n",
              "    </tr>\n",
              "    <tr>\n",
              "      <th>avg_loan_amnt</th>\n",
              "      <td>0.685468</td>\n",
              "      <td>-0.475837</td>\n",
              "      <td>-0.443113</td>\n",
              "      <td>-0.783764</td>\n",
              "      <td>1.000000</td>\n",
              "      <td>0.855159</td>\n",
              "      <td>0.832335</td>\n",
              "      <td>-0.803379</td>\n",
              "      <td>-0.443113</td>\n",
              "      <td>-0.443113</td>\n",
              "    </tr>\n",
              "    <tr>\n",
              "      <th>median_annual_inc</th>\n",
              "      <td>0.906772</td>\n",
              "      <td>-0.151144</td>\n",
              "      <td>-0.717776</td>\n",
              "      <td>-0.899118</td>\n",
              "      <td>0.855159</td>\n",
              "      <td>1.000000</td>\n",
              "      <td>0.991677</td>\n",
              "      <td>-0.945029</td>\n",
              "      <td>-0.717776</td>\n",
              "      <td>-0.717776</td>\n",
              "    </tr>\n",
              "    <tr>\n",
              "      <th>avg_annual_inc</th>\n",
              "      <td>0.927058</td>\n",
              "      <td>-0.094418</td>\n",
              "      <td>-0.741849</td>\n",
              "      <td>-0.897630</td>\n",
              "      <td>0.832335</td>\n",
              "      <td>0.991677</td>\n",
              "      <td>1.000000</td>\n",
              "      <td>-0.946145</td>\n",
              "      <td>-0.741849</td>\n",
              "      <td>-0.741849</td>\n",
              "    </tr>\n",
              "    <tr>\n",
              "      <th>int_rate</th>\n",
              "      <td>-0.969029</td>\n",
              "      <td>0.113229</td>\n",
              "      <td>0.850278</td>\n",
              "      <td>0.962789</td>\n",
              "      <td>-0.803379</td>\n",
              "      <td>-0.945029</td>\n",
              "      <td>-0.946145</td>\n",
              "      <td>1.000000</td>\n",
              "      <td>0.850278</td>\n",
              "      <td>0.850278</td>\n",
              "    </tr>\n",
              "    <tr>\n",
              "      <th>default_rate</th>\n",
              "      <td>-0.886782</td>\n",
              "      <td>-0.146124</td>\n",
              "      <td>1.000000</td>\n",
              "      <td>0.845046</td>\n",
              "      <td>-0.443113</td>\n",
              "      <td>-0.717776</td>\n",
              "      <td>-0.741849</td>\n",
              "      <td>0.850278</td>\n",
              "      <td>1.000000</td>\n",
              "      <td>1.000000</td>\n",
              "    </tr>\n",
              "    <tr>\n",
              "      <th>actual_default_rate</th>\n",
              "      <td>-0.886782</td>\n",
              "      <td>-0.146124</td>\n",
              "      <td>1.000000</td>\n",
              "      <td>0.845046</td>\n",
              "      <td>-0.443113</td>\n",
              "      <td>-0.717776</td>\n",
              "      <td>-0.741849</td>\n",
              "      <td>0.850278</td>\n",
              "      <td>1.000000</td>\n",
              "      <td>1.000000</td>\n",
              "    </tr>\n",
              "  </tbody>\n",
              "</table>\n",
              "</div>"
            ],
            "text/plain": [
              "                     fico_score  loan_total  ...  default_rate  actual_default_rate\n",
              "fico_score             1.000000    0.067153  ...     -0.886782            -0.886782\n",
              "loan_total             0.067153    1.000000  ...     -0.146124            -0.146124\n",
              "default_total         -0.886782   -0.146124  ...      1.000000             1.000000\n",
              "dti                   -0.923870    0.141039  ...      0.845046             0.845046\n",
              "avg_loan_amnt          0.685468   -0.475837  ...     -0.443113            -0.443113\n",
              "median_annual_inc      0.906772   -0.151144  ...     -0.717776            -0.717776\n",
              "avg_annual_inc         0.927058   -0.094418  ...     -0.741849            -0.741849\n",
              "int_rate              -0.969029    0.113229  ...      0.850278             0.850278\n",
              "default_rate          -0.886782   -0.146124  ...      1.000000             1.000000\n",
              "actual_default_rate   -0.886782   -0.146124  ...      1.000000             1.000000\n",
              "\n",
              "[10 rows x 10 columns]"
            ]
          },
          "metadata": {
            "tags": []
          },
          "execution_count": 7
        }
      ]
    },
    {
      "cell_type": "markdown",
      "metadata": {
        "id": "4-6rG51Jjf-x",
        "colab_type": "text"
      },
      "source": [
        "1. Fico score and dti have negative correlation\n",
        "1. Fico score and int_rate have negative correlation\n",
        "\n",
        "\n",
        "-----------------------------------------------------------------------\n",
        "\n",
        "Two types of correalation\n",
        "1. **Pearson correlation**: Degree of relationship between linearly related value.\n",
        " It has assumption that both the variables should be normally distributed.\n",
        " If the distribution is not normal then pearson might give you strength bt it will not be that accurate\n",
        "2. **Spearman rank correlation** : It is a non parametric test. It does not require the data to be normally distributed.\n",
        "It used to calculate the degree of association between two variables.\n",
        "It evaluates the monotonic relationship between a conitnuous variable or an ordinal variable. It does not have any assumptions about the underlying data.\n",
        "Works pretty well if you have an variable having values which has order to it\n",
        "In our example fico_score is ordinal variable. Also is more apporiate during modelling monolitic relationship\n"
      ]
    },
    {
      "cell_type": "code",
      "metadata": {
        "id": "l1rcWkpgjT2C",
        "colab_type": "code",
        "outputId": "eb7d6bb9-6c52-49f1-f290-a9f5cd593dfd",
        "colab": {
          "base_uri": "https://localhost:8080/",
          "height": 340
        }
      },
      "source": [
        "loan_df.corr(method = 'spearman')"
      ],
      "execution_count": 8,
      "outputs": [
        {
          "output_type": "execute_result",
          "data": {
            "text/html": [
              "<div>\n",
              "<style scoped>\n",
              "    .dataframe tbody tr th:only-of-type {\n",
              "        vertical-align: middle;\n",
              "    }\n",
              "\n",
              "    .dataframe tbody tr th {\n",
              "        vertical-align: top;\n",
              "    }\n",
              "\n",
              "    .dataframe thead th {\n",
              "        text-align: right;\n",
              "    }\n",
              "</style>\n",
              "<table border=\"1\" class=\"dataframe\">\n",
              "  <thead>\n",
              "    <tr style=\"text-align: right;\">\n",
              "      <th></th>\n",
              "      <th>fico_score</th>\n",
              "      <th>loan_total</th>\n",
              "      <th>default_total</th>\n",
              "      <th>dti</th>\n",
              "      <th>avg_loan_amnt</th>\n",
              "      <th>median_annual_inc</th>\n",
              "      <th>avg_annual_inc</th>\n",
              "      <th>int_rate</th>\n",
              "      <th>default_rate</th>\n",
              "      <th>actual_default_rate</th>\n",
              "    </tr>\n",
              "  </thead>\n",
              "  <tbody>\n",
              "    <tr>\n",
              "      <th>fico_score</th>\n",
              "      <td>1.000000</td>\n",
              "      <td>0.043243</td>\n",
              "      <td>-0.939511</td>\n",
              "      <td>-0.936422</td>\n",
              "      <td>0.661261</td>\n",
              "      <td>0.956772</td>\n",
              "      <td>0.966281</td>\n",
              "      <td>-0.997169</td>\n",
              "      <td>-0.939511</td>\n",
              "      <td>-0.939511</td>\n",
              "    </tr>\n",
              "    <tr>\n",
              "      <th>loan_total</th>\n",
              "      <td>0.043243</td>\n",
              "      <td>1.000000</td>\n",
              "      <td>0.077992</td>\n",
              "      <td>0.029344</td>\n",
              "      <td>-0.344916</td>\n",
              "      <td>0.035934</td>\n",
              "      <td>0.048649</td>\n",
              "      <td>-0.035006</td>\n",
              "      <td>0.077992</td>\n",
              "      <td>0.077992</td>\n",
              "    </tr>\n",
              "    <tr>\n",
              "      <th>default_total</th>\n",
              "      <td>-0.939511</td>\n",
              "      <td>0.077992</td>\n",
              "      <td>1.000000</td>\n",
              "      <td>0.967310</td>\n",
              "      <td>-0.601544</td>\n",
              "      <td>-0.889429</td>\n",
              "      <td>-0.899871</td>\n",
              "      <td>0.950322</td>\n",
              "      <td>1.000000</td>\n",
              "      <td>1.000000</td>\n",
              "    </tr>\n",
              "    <tr>\n",
              "      <th>dti</th>\n",
              "      <td>-0.936422</td>\n",
              "      <td>0.029344</td>\n",
              "      <td>0.967310</td>\n",
              "      <td>1.000000</td>\n",
              "      <td>-0.576577</td>\n",
              "      <td>-0.877666</td>\n",
              "      <td>-0.890862</td>\n",
              "      <td>0.937709</td>\n",
              "      <td>0.967310</td>\n",
              "      <td>0.967310</td>\n",
              "    </tr>\n",
              "    <tr>\n",
              "      <th>avg_loan_amnt</th>\n",
              "      <td>0.661261</td>\n",
              "      <td>-0.344916</td>\n",
              "      <td>-0.601544</td>\n",
              "      <td>-0.576577</td>\n",
              "      <td>1.000000</td>\n",
              "      <td>0.750476</td>\n",
              "      <td>0.711969</td>\n",
              "      <td>-0.656371</td>\n",
              "      <td>-0.601544</td>\n",
              "      <td>-0.601544</td>\n",
              "    </tr>\n",
              "    <tr>\n",
              "      <th>median_annual_inc</th>\n",
              "      <td>0.956772</td>\n",
              "      <td>0.035934</td>\n",
              "      <td>-0.889429</td>\n",
              "      <td>-0.877666</td>\n",
              "      <td>0.750476</td>\n",
              "      <td>1.000000</td>\n",
              "      <td>0.979263</td>\n",
              "      <td>-0.955868</td>\n",
              "      <td>-0.889429</td>\n",
              "      <td>-0.889429</td>\n",
              "    </tr>\n",
              "    <tr>\n",
              "      <th>avg_annual_inc</th>\n",
              "      <td>0.966281</td>\n",
              "      <td>0.048649</td>\n",
              "      <td>-0.899871</td>\n",
              "      <td>-0.890862</td>\n",
              "      <td>0.711969</td>\n",
              "      <td>0.979263</td>\n",
              "      <td>1.000000</td>\n",
              "      <td>-0.966795</td>\n",
              "      <td>-0.899871</td>\n",
              "      <td>-0.899871</td>\n",
              "    </tr>\n",
              "    <tr>\n",
              "      <th>int_rate</th>\n",
              "      <td>-0.997169</td>\n",
              "      <td>-0.035006</td>\n",
              "      <td>0.950322</td>\n",
              "      <td>0.937709</td>\n",
              "      <td>-0.656371</td>\n",
              "      <td>-0.955868</td>\n",
              "      <td>-0.966795</td>\n",
              "      <td>1.000000</td>\n",
              "      <td>0.950322</td>\n",
              "      <td>0.950322</td>\n",
              "    </tr>\n",
              "    <tr>\n",
              "      <th>default_rate</th>\n",
              "      <td>-0.939511</td>\n",
              "      <td>0.077992</td>\n",
              "      <td>1.000000</td>\n",
              "      <td>0.967310</td>\n",
              "      <td>-0.601544</td>\n",
              "      <td>-0.889429</td>\n",
              "      <td>-0.899871</td>\n",
              "      <td>0.950322</td>\n",
              "      <td>1.000000</td>\n",
              "      <td>1.000000</td>\n",
              "    </tr>\n",
              "    <tr>\n",
              "      <th>actual_default_rate</th>\n",
              "      <td>-0.939511</td>\n",
              "      <td>0.077992</td>\n",
              "      <td>1.000000</td>\n",
              "      <td>0.967310</td>\n",
              "      <td>-0.601544</td>\n",
              "      <td>-0.889429</td>\n",
              "      <td>-0.899871</td>\n",
              "      <td>0.950322</td>\n",
              "      <td>1.000000</td>\n",
              "      <td>1.000000</td>\n",
              "    </tr>\n",
              "  </tbody>\n",
              "</table>\n",
              "</div>"
            ],
            "text/plain": [
              "                     fico_score  loan_total  ...  default_rate  actual_default_rate\n",
              "fico_score             1.000000    0.043243  ...     -0.939511            -0.939511\n",
              "loan_total             0.043243    1.000000  ...      0.077992             0.077992\n",
              "default_total         -0.939511    0.077992  ...      1.000000             1.000000\n",
              "dti                   -0.936422    0.029344  ...      0.967310             0.967310\n",
              "avg_loan_amnt          0.661261   -0.344916  ...     -0.601544            -0.601544\n",
              "median_annual_inc      0.956772    0.035934  ...     -0.889429            -0.889429\n",
              "avg_annual_inc         0.966281    0.048649  ...     -0.899871            -0.899871\n",
              "int_rate              -0.997169   -0.035006  ...      0.950322             0.950322\n",
              "default_rate          -0.939511    0.077992  ...      1.000000             1.000000\n",
              "actual_default_rate   -0.939511    0.077992  ...      1.000000             1.000000\n",
              "\n",
              "[10 rows x 10 columns]"
            ]
          },
          "metadata": {
            "tags": []
          },
          "execution_count": 8
        }
      ]
    },
    {
      "cell_type": "code",
      "metadata": {
        "id": "xKhqQjaJksGh",
        "colab_type": "code",
        "outputId": "ab426571-6d9f-4c2f-cd36-d0076976ac27",
        "colab": {
          "base_uri": "https://localhost:8080/",
          "height": 298
        }
      },
      "source": [
        "sns.distplot(loan_df['median_annual_inc'], hist=True)"
      ],
      "execution_count": 9,
      "outputs": [
        {
          "output_type": "execute_result",
          "data": {
            "text/plain": [
              "<matplotlib.axes._subplots.AxesSubplot at 0x7fbb7d591828>"
            ]
          },
          "metadata": {
            "tags": []
          },
          "execution_count": 9
        },
        {
          "output_type": "display_data",
          "data": {
            "image/png": "[encoded data removed]",
            "text/plain": [
              "<Figure size 432x288 with 1 Axes>"
            ]
          },
          "metadata": {
            "tags": [],
            "needs_background": "light"
          }
        }
      ]
    },
    {
      "cell_type": "markdown",
      "metadata": {
        "id": "vL9xvCEGnVmK",
        "colab_type": "text"
      },
      "source": [
        "Median_annual_inc is right skewed."
      ]
    },
    {
      "cell_type": "code",
      "metadata": {
        "id": "J3T4GwiwnRIp",
        "colab_type": "code",
        "outputId": "8c3dbdd7-9f2c-456e-e4f6-aa470c076d77",
        "colab": {
          "base_uri": "https://localhost:8080/",
          "height": 106
        }
      },
      "source": [
        "#pretty strong positive correlation\n",
        "loan_df[['fico_score','median_annual_inc']].corr(method='spearman')"
      ],
      "execution_count": 10,
      "outputs": [
        {
          "output_type": "execute_result",
          "data": {
            "text/html": [
              "<div>\n",
              "<style scoped>\n",
              "    .dataframe tbody tr th:only-of-type {\n",
              "        vertical-align: middle;\n",
              "    }\n",
              "\n",
              "    .dataframe tbody tr th {\n",
              "        vertical-align: top;\n",
              "    }\n",
              "\n",
              "    .dataframe thead th {\n",
              "        text-align: right;\n",
              "    }\n",
              "</style>\n",
              "<table border=\"1\" class=\"dataframe\">\n",
              "  <thead>\n",
              "    <tr style=\"text-align: right;\">\n",
              "      <th></th>\n",
              "      <th>fico_score</th>\n",
              "      <th>median_annual_inc</th>\n",
              "    </tr>\n",
              "  </thead>\n",
              "  <tbody>\n",
              "    <tr>\n",
              "      <th>fico_score</th>\n",
              "      <td>1.000000</td>\n",
              "      <td>0.956772</td>\n",
              "    </tr>\n",
              "    <tr>\n",
              "      <th>median_annual_inc</th>\n",
              "      <td>0.956772</td>\n",
              "      <td>1.000000</td>\n",
              "    </tr>\n",
              "  </tbody>\n",
              "</table>\n",
              "</div>"
            ],
            "text/plain": [
              "                   fico_score  median_annual_inc\n",
              "fico_score           1.000000           0.956772\n",
              "median_annual_inc    0.956772           1.000000"
            ]
          },
          "metadata": {
            "tags": []
          },
          "execution_count": 10
        }
      ]
    },
    {
      "cell_type": "code",
      "metadata": {
        "id": "bTDm7Jv3nx2_",
        "colab_type": "code",
        "outputId": "8cc31585-547e-448f-fb7c-1aa08b8166db",
        "colab": {
          "base_uri": "https://localhost:8080/",
          "height": 300
        }
      },
      "source": [
        "sns.regplot(x='fico_score', y = 'median_annual_inc', data =loan_df)"
      ],
      "execution_count": 11,
      "outputs": [
        {
          "output_type": "execute_result",
          "data": {
            "text/plain": [
              "<matplotlib.axes._subplots.AxesSubplot at 0x7fbb7d4e3f28>"
            ]
          },
          "metadata": {
            "tags": []
          },
          "execution_count": 11
        },
        {
          "output_type": "display_data",
          "data": {
            "image/png": "[encoded data removed]",
            "text/plain": [
              "<Figure size 432x288 with 1 Axes>"
            ]
          },
          "metadata": {
            "tags": [],
            "needs_background": "light"
          }
        }
      ]
    },
    {
      "cell_type": "markdown",
      "metadata": {
        "id": "UHwhI2pooKQd",
        "colab_type": "text"
      },
      "source": [
        "The points in above graph are not exactly on the line. Not a strong linear relationship but there is linear relatioship."
      ]
    },
    {
      "cell_type": "code",
      "metadata": {
        "id": "5Z4wPmHEoCNI",
        "colab_type": "code",
        "outputId": "5ef53f12-c196-4839-a8fb-68b2463637fc",
        "colab": {
          "base_uri": "https://localhost:8080/",
          "height": 106
        }
      },
      "source": [
        "loan_df[['fico_score','avg_annual_inc']].corr(method ='spearman')"
      ],
      "execution_count": 12,
      "outputs": [
        {
          "output_type": "execute_result",
          "data": {
            "text/html": [
              "<div>\n",
              "<style scoped>\n",
              "    .dataframe tbody tr th:only-of-type {\n",
              "        vertical-align: middle;\n",
              "    }\n",
              "\n",
              "    .dataframe tbody tr th {\n",
              "        vertical-align: top;\n",
              "    }\n",
              "\n",
              "    .dataframe thead th {\n",
              "        text-align: right;\n",
              "    }\n",
              "</style>\n",
              "<table border=\"1\" class=\"dataframe\">\n",
              "  <thead>\n",
              "    <tr style=\"text-align: right;\">\n",
              "      <th></th>\n",
              "      <th>fico_score</th>\n",
              "      <th>avg_annual_inc</th>\n",
              "    </tr>\n",
              "  </thead>\n",
              "  <tbody>\n",
              "    <tr>\n",
              "      <th>fico_score</th>\n",
              "      <td>1.000000</td>\n",
              "      <td>0.966281</td>\n",
              "    </tr>\n",
              "    <tr>\n",
              "      <th>avg_annual_inc</th>\n",
              "      <td>0.966281</td>\n",
              "      <td>1.000000</td>\n",
              "    </tr>\n",
              "  </tbody>\n",
              "</table>\n",
              "</div>"
            ],
            "text/plain": [
              "                fico_score  avg_annual_inc\n",
              "fico_score        1.000000        0.966281\n",
              "avg_annual_inc    0.966281        1.000000"
            ]
          },
          "metadata": {
            "tags": []
          },
          "execution_count": 12
        }
      ]
    },
    {
      "cell_type": "code",
      "metadata": {
        "id": "RnPH7wfsohKa",
        "colab_type": "code",
        "outputId": "d702870c-49a0-4eeb-8681-e22e243103db",
        "colab": {
          "base_uri": "https://localhost:8080/",
          "height": 300
        }
      },
      "source": [
        "sns.regplot(x='fico_score' , y = 'avg_annual_inc' , data = loan_df)"
      ],
      "execution_count": 13,
      "outputs": [
        {
          "output_type": "execute_result",
          "data": {
            "text/plain": [
              "<matplotlib.axes._subplots.AxesSubplot at 0x7fbb7d4b5048>"
            ]
          },
          "metadata": {
            "tags": []
          },
          "execution_count": 13
        },
        {
          "output_type": "display_data",
          "data": {
            "image/png": "[encoded data removed]",
            "text/plain": [
              "<Figure size 432x288 with 1 Axes>"
            ]
          },
          "metadata": {
            "tags": [],
            "needs_background": "light"
          }
        }
      ]
    },
    {
      "cell_type": "code",
      "metadata": {
        "id": "hmOIA3qDotNk",
        "colab_type": "code",
        "outputId": "95254f98-a1d5-44d1-daef-fdddb9ef4900",
        "colab": {
          "base_uri": "https://localhost:8080/",
          "height": 106
        }
      },
      "source": [
        "loan_df[['fico_score','dti']].corr(method='spearman')"
      ],
      "execution_count": 14,
      "outputs": [
        {
          "output_type": "execute_result",
          "data": {
            "text/html": [
              "<div>\n",
              "<style scoped>\n",
              "    .dataframe tbody tr th:only-of-type {\n",
              "        vertical-align: middle;\n",
              "    }\n",
              "\n",
              "    .dataframe tbody tr th {\n",
              "        vertical-align: top;\n",
              "    }\n",
              "\n",
              "    .dataframe thead th {\n",
              "        text-align: right;\n",
              "    }\n",
              "</style>\n",
              "<table border=\"1\" class=\"dataframe\">\n",
              "  <thead>\n",
              "    <tr style=\"text-align: right;\">\n",
              "      <th></th>\n",
              "      <th>fico_score</th>\n",
              "      <th>dti</th>\n",
              "    </tr>\n",
              "  </thead>\n",
              "  <tbody>\n",
              "    <tr>\n",
              "      <th>fico_score</th>\n",
              "      <td>1.000000</td>\n",
              "      <td>-0.936422</td>\n",
              "    </tr>\n",
              "    <tr>\n",
              "      <th>dti</th>\n",
              "      <td>-0.936422</td>\n",
              "      <td>1.000000</td>\n",
              "    </tr>\n",
              "  </tbody>\n",
              "</table>\n",
              "</div>"
            ],
            "text/plain": [
              "            fico_score       dti\n",
              "fico_score    1.000000 -0.936422\n",
              "dti          -0.936422  1.000000"
            ]
          },
          "metadata": {
            "tags": []
          },
          "execution_count": 14
        }
      ]
    },
    {
      "cell_type": "code",
      "metadata": {
        "id": "3_6eb9lPpCd9",
        "colab_type": "code",
        "outputId": "1213880b-62a4-441d-cf2a-28903bab8b37",
        "colab": {
          "base_uri": "https://localhost:8080/",
          "height": 298
        }
      },
      "source": [
        "sns.regplot(x='fico_score', y='dti', data=loan_df)"
      ],
      "execution_count": 15,
      "outputs": [
        {
          "output_type": "execute_result",
          "data": {
            "text/plain": [
              "<matplotlib.axes._subplots.AxesSubplot at 0x7fbb7a798e80>"
            ]
          },
          "metadata": {
            "tags": []
          },
          "execution_count": 15
        },
        {
          "output_type": "display_data",
          "data": {
            "image/png": "[encoded data removed]",
            "text/plain": [
              "<Figure size 432x288 with 1 Axes>"
            ]
          },
          "metadata": {
            "tags": [],
            "needs_background": "light"
          }
        }
      ]
    },
    {
      "cell_type": "code",
      "metadata": {
        "id": "tC9b44pcpFkz",
        "colab_type": "code",
        "outputId": "dbe0ff02-e1f6-4921-9fee-5ad7bb0e8604",
        "colab": {
          "base_uri": "https://localhost:8080/",
          "height": 106
        }
      },
      "source": [
        "loan_df[['fico_score','int_rate']].corr(method ='spearman')"
      ],
      "execution_count": 16,
      "outputs": [
        {
          "output_type": "execute_result",
          "data": {
            "text/html": [
              "<div>\n",
              "<style scoped>\n",
              "    .dataframe tbody tr th:only-of-type {\n",
              "        vertical-align: middle;\n",
              "    }\n",
              "\n",
              "    .dataframe tbody tr th {\n",
              "        vertical-align: top;\n",
              "    }\n",
              "\n",
              "    .dataframe thead th {\n",
              "        text-align: right;\n",
              "    }\n",
              "</style>\n",
              "<table border=\"1\" class=\"dataframe\">\n",
              "  <thead>\n",
              "    <tr style=\"text-align: right;\">\n",
              "      <th></th>\n",
              "      <th>fico_score</th>\n",
              "      <th>int_rate</th>\n",
              "    </tr>\n",
              "  </thead>\n",
              "  <tbody>\n",
              "    <tr>\n",
              "      <th>fico_score</th>\n",
              "      <td>1.000000</td>\n",
              "      <td>-0.997169</td>\n",
              "    </tr>\n",
              "    <tr>\n",
              "      <th>int_rate</th>\n",
              "      <td>-0.997169</td>\n",
              "      <td>1.000000</td>\n",
              "    </tr>\n",
              "  </tbody>\n",
              "</table>\n",
              "</div>"
            ],
            "text/plain": [
              "            fico_score  int_rate\n",
              "fico_score    1.000000 -0.997169\n",
              "int_rate     -0.997169  1.000000"
            ]
          },
          "metadata": {
            "tags": []
          },
          "execution_count": 16
        }
      ]
    },
    {
      "cell_type": "code",
      "metadata": {
        "id": "UVv4IUVepQWC",
        "colab_type": "code",
        "outputId": "4e038e1a-df2f-430d-cf63-62fb23184e0a",
        "colab": {
          "base_uri": "https://localhost:8080/",
          "height": 298
        }
      },
      "source": [
        "sns.regplot(x='fico_score' , y = 'int_rate' , data = loan_df)"
      ],
      "execution_count": 17,
      "outputs": [
        {
          "output_type": "execute_result",
          "data": {
            "text/plain": [
              "<matplotlib.axes._subplots.AxesSubplot at 0x7fbb7a706978>"
            ]
          },
          "metadata": {
            "tags": []
          },
          "execution_count": 17
        },
        {
          "output_type": "display_data",
          "data": {
            "image/png": "[encoded data removed]",
            "text/plain": [
              "<Figure size 432x288 with 1 Axes>"
            ]
          },
          "metadata": {
            "tags": [],
            "needs_background": "light"
          }
        }
      ]
    },
    {
      "cell_type": "code",
      "metadata": {
        "id": "dyGCx8YNpdwX",
        "colab_type": "code",
        "outputId": "b7b42c0f-9bd0-45a6-e284-89a634c609fa",
        "colab": {
          "base_uri": "https://localhost:8080/",
          "height": 298
        }
      },
      "source": [
        "sns.distplot(loan_df['int_rate'], hist = True)"
      ],
      "execution_count": 18,
      "outputs": [
        {
          "output_type": "execute_result",
          "data": {
            "text/plain": [
              "<matplotlib.axes._subplots.AxesSubplot at 0x7fbb7a678860>"
            ]
          },
          "metadata": {
            "tags": []
          },
          "execution_count": 18
        },
        {
          "output_type": "display_data",
          "data": {
            "image/png": "[encoded data removed]",
            "text/plain": [
              "<Figure size 432x288 with 1 Axes>"
            ]
          },
          "metadata": {
            "tags": [],
            "needs_background": "light"
          }
        }
      ]
    },
    {
      "cell_type": "code",
      "metadata": {
        "id": "OuPbSAMRpmPR",
        "colab_type": "code",
        "outputId": "88597d0d-521d-423c-eea8-500a5f8984b9",
        "colab": {
          "base_uri": "https://localhost:8080/",
          "height": 597
        }
      },
      "source": [
        "import scipy.stats as stats\n",
        "stats.probplot(loan_df['int_rate'], dist='norm', plot=plt)"
      ],
      "execution_count": 19,
      "outputs": [
        {
          "output_type": "execute_result",
          "data": {
            "text/plain": [
              "((array([-2.07334886, -1.68217954, -1.44830429, -1.27437681, -1.13225357,\n",
              "         -1.00993636, -0.90112151, -0.80205412, -0.71029762, -0.62416759,\n",
              "         -0.54243995, -0.46418751, -0.38868208, -0.31533241, -0.24364313,\n",
              "         -0.17318609, -0.10357945, -0.03447167,  0.03447167,  0.10357945,\n",
              "          0.17318609,  0.24364313,  0.31533241,  0.38868208,  0.46418751,\n",
              "          0.54243995,  0.62416759,  0.71029762,  0.80205412,  0.90112151,\n",
              "          1.00993636,  1.13225357,  1.27437681,  1.44830429,  1.68217954,\n",
              "          2.07334886]),\n",
              "  array([ 7.58556196,  7.96854839,  8.00050755,  8.40436779,  8.81612608,\n",
              "          9.17925418,  9.54207879,  9.94439109, 10.17342593, 10.54704384,\n",
              "         10.83639354, 11.07060021, 11.40585966, 11.84989813, 12.19602541,\n",
              "         12.64158738, 12.99737662, 13.36212073, 13.75097687, 13.84232878,\n",
              "         13.93910593, 13.99130432, 14.13094166, 14.38872081, 14.45885661,\n",
              "         14.56445333, 14.71287103, 14.79158065, 14.83095961, 14.93735761,\n",
              "         15.04821175, 15.27102165, 15.31245098, 15.35228452, 15.4402116 ,\n",
              "         15.44901129])),\n",
              " (2.5196349375983393, 12.520383785694445, 0.9516744621680466))"
            ]
          },
          "metadata": {
            "tags": []
          },
          "execution_count": 19
        },
        {
          "output_type": "display_data",
          "data": {
            "image/png": "[encoded data removed]",
            "text/plain": [
              "<Figure size 432x288 with 1 Axes>"
            ]
          },
          "metadata": {
            "tags": [],
            "needs_background": "light"
          }
        }
      ]
    },
    {
      "cell_type": "markdown",
      "metadata": {
        "id": "VT4CTPufqApV",
        "colab_type": "text"
      },
      "source": [
        "It is a quantile plot. It is a good way check if the distribution is normal or not.\n",
        "If all the points lie on the red line then we can assume that data is perfectly nornally distributed.\n",
        "In our case it is not perfectly normally distributed."
      ]
    },
    {
      "cell_type": "code",
      "metadata": {
        "id": "0FEr5wbGp4bP",
        "colab_type": "code",
        "outputId": "bea352f9-5065-4efd-ea77-63f67878e52a",
        "colab": {
          "base_uri": "https://localhost:8080/",
          "height": 106
        }
      },
      "source": [
        "loan_df[['fico_score','loan_total']].corr(method='spearman')"
      ],
      "execution_count": 21,
      "outputs": [
        {
          "output_type": "execute_result",
          "data": {
            "text/html": [
              "<div>\n",
              "<style scoped>\n",
              "    .dataframe tbody tr th:only-of-type {\n",
              "        vertical-align: middle;\n",
              "    }\n",
              "\n",
              "    .dataframe tbody tr th {\n",
              "        vertical-align: top;\n",
              "    }\n",
              "\n",
              "    .dataframe thead th {\n",
              "        text-align: right;\n",
              "    }\n",
              "</style>\n",
              "<table border=\"1\" class=\"dataframe\">\n",
              "  <thead>\n",
              "    <tr style=\"text-align: right;\">\n",
              "      <th></th>\n",
              "      <th>fico_score</th>\n",
              "      <th>loan_total</th>\n",
              "    </tr>\n",
              "  </thead>\n",
              "  <tbody>\n",
              "    <tr>\n",
              "      <th>fico_score</th>\n",
              "      <td>1.000000</td>\n",
              "      <td>0.043243</td>\n",
              "    </tr>\n",
              "    <tr>\n",
              "      <th>loan_total</th>\n",
              "      <td>0.043243</td>\n",
              "      <td>1.000000</td>\n",
              "    </tr>\n",
              "  </tbody>\n",
              "</table>\n",
              "</div>"
            ],
            "text/plain": [
              "            fico_score  loan_total\n",
              "fico_score    1.000000    0.043243\n",
              "loan_total    0.043243    1.000000"
            ]
          },
          "metadata": {
            "tags": []
          },
          "execution_count": 21
        }
      ]
    },
    {
      "cell_type": "code",
      "metadata": {
        "id": "XRdIurfKqlJj",
        "colab_type": "code",
        "outputId": "dd39bb0a-192a-4c8f-cbd2-3fff779529ca",
        "colab": {
          "base_uri": "https://localhost:8080/",
          "height": 298
        }
      },
      "source": [
        "sns.regplot(x='fico_score', y='loan_total', data=loan_df)"
      ],
      "execution_count": 22,
      "outputs": [
        {
          "output_type": "execute_result",
          "data": {
            "text/plain": [
              "<matplotlib.axes._subplots.AxesSubplot at 0x7fbb7a4d0f98>"
            ]
          },
          "metadata": {
            "tags": []
          },
          "execution_count": 22
        },
        {
          "output_type": "display_data",
          "data": {
            "image/png": "[encoded data removed]",
            "text/plain": [
              "<Figure size 432x288 with 1 Axes>"
            ]
          },
          "metadata": {
            "tags": [],
            "needs_background": "light"
          }
        }
      ]
    },
    {
      "cell_type": "markdown",
      "metadata": {
        "id": "rJgVi9qHqxFp",
        "colab_type": "text"
      },
      "source": [
        "For these two variables the relationship is not linear.\n",
        "It can be handled using a complex/non linear model or high order polynomial model."
      ]
    },
    {
      "cell_type": "code",
      "metadata": {
        "id": "I0IUYk5caFY6",
        "colab_type": "code",
        "colab": {
          "base_uri": "https://localhost:8080/",
          "height": 70
        },
        "outputId": "77353ceb-bd15-4d4c-afce-216ffbe498a9"
      },
      "source": [
        "print(loan_df[['fico_score','default_rate']].corr())"
      ],
      "execution_count": 24,
      "outputs": [
        {
          "output_type": "stream",
          "text": [
            "              fico_score  default_rate\n",
            "fico_score      1.000000     -0.886782\n",
            "default_rate   -0.886782      1.000000\n"
          ],
          "name": "stdout"
        }
      ]
    },
    {
      "cell_type": "code",
      "metadata": {
        "id": "B_Zscgv9aLew",
        "colab_type": "code",
        "colab": {
          "base_uri": "https://localhost:8080/",
          "height": 298
        },
        "outputId": "34ecb4a8-ee31-4cc5-a59e-e63726e555ad"
      },
      "source": [
        "sns.regplot(x='fico_score' , y = 'default_rate' , data = loan_df)"
      ],
      "execution_count": 25,
      "outputs": [
        {
          "output_type": "execute_result",
          "data": {
            "text/plain": [
              "<matplotlib.axes._subplots.AxesSubplot at 0x7fbb789517f0>"
            ]
          },
          "metadata": {
            "tags": []
          },
          "execution_count": 25
        },
        {
          "output_type": "display_data",
          "data": {
            "image/png": "[encoded data removed]",
            "text/plain": [
              "<Figure size 432x288 with 1 Axes>"
            ]
          },
          "metadata": {
            "tags": [],
            "needs_background": "light"
          }
        }
      ]
    },
    {
      "cell_type": "code",
      "metadata": {
        "id": "El1_9VAbqrC7",
        "colab_type": "code",
        "outputId": "1e9c564b-b205-47f1-b0b2-5c4ccb4aa1d5",
        "colab": {
          "base_uri": "https://localhost:8080/",
          "height": 351
        }
      },
      "source": [
        "print(loan_df[['fico_score','default_rate']].corr(method ='spearman'))\n",
        "sns.regplot(x='fico_score' , y = 'default_rate' , data = loan_df)"
      ],
      "execution_count": 23,
      "outputs": [
        {
          "output_type": "stream",
          "text": [
            "              fico_score  default_rate\n",
            "fico_score      1.000000     -0.939511\n",
            "default_rate   -0.939511      1.000000\n"
          ],
          "name": "stdout"
        },
        {
          "output_type": "execute_result",
          "data": {
            "text/plain": [
              "<matplotlib.axes._subplots.AxesSubplot at 0x7fbb7896d748>"
            ]
          },
          "metadata": {
            "tags": []
          },
          "execution_count": 23
        },
        {
          "output_type": "display_data",
          "data": {
            "image/png": "[encoded data removed]",
            "text/plain": [
              "<Figure size 432x288 with 1 Axes>"
            ]
          },
          "metadata": {
            "tags": [],
            "needs_background": "light"
          }
        }
      ]
    },
    {
      "cell_type": "markdown",
      "metadata": {
        "id": "WEb907MprZOl",
        "colab_type": "text"
      },
      "source": [
        "* Here there is negative correltions but many points are away from the regression line. It is called **monotonic relationship**.\n",
        "\n",
        "*Monotonic relationships are where: One variable increases and the other increases. Or, One variable decreases and the other decreases*\n",
        "\n",
        "* In this case,  the variables tend to move in relatively same direction but they are not moving in the same constant rate as a perfect linear relation.\n",
        "* here we can use linear as well as complex/non linear model or we use segmentation i.e., create sepearte groups for different fico score and train a different model for each group.\n",
        "\n",
        "If we use all fico score and create one model it may generalize the coeff of model and hence create a biasness in model.\n",
        "\n",
        "*Linear relationship are also monotonic*"
      ]
    },
    {
      "cell_type": "code",
      "metadata": {
        "id": "16uIj6d6tJWc",
        "colab_type": "code",
        "outputId": "46a9f231-cc1a-494b-dc92-d8ea38bafa93",
        "colab": {
          "base_uri": "https://localhost:8080/",
          "height": 353
        }
      },
      "source": [
        "print(loan_df[['median_annual_inc','loan_total']].corr(method ='spearman'))\n",
        "sns.regplot(x='median_annual_inc' , y = 'loan_total' , data = loan_df)"
      ],
      "execution_count": 0,
      "outputs": [
        {
          "output_type": "stream",
          "text": [
            "                   median_annual_inc  loan_total\n",
            "median_annual_inc           1.000000    0.035934\n",
            "loan_total                  0.035934    1.000000\n"
          ],
          "name": "stdout"
        },
        {
          "output_type": "execute_result",
          "data": {
            "text/plain": [
              "<matplotlib.axes._subplots.AxesSubplot at 0x7f19c3415c50>"
            ]
          },
          "metadata": {
            "tags": []
          },
          "execution_count": 38
        },
        {
          "output_type": "display_data",
          "data": {
            "image/png": "[encoded data removed]",
            "text/plain": [
              "<Figure size 432x288 with 1 Axes>"
            ]
          },
          "metadata": {
            "tags": [],
            "needs_background": "light"
          }
        }
      ]
    },
    {
      "cell_type": "code",
      "metadata": {
        "id": "_f9EJCjHtsyu",
        "colab_type": "code",
        "outputId": "370ddb15-2d6b-4e44-fa15-adf0fbc3f3fc",
        "colab": {
          "base_uri": "https://localhost:8080/",
          "height": 350
        }
      },
      "source": [
        "print(loan_df[['dti','loan_total']].corr(method ='spearman'))\n",
        "sns.regplot(x='dti' , y = 'loan_total' , data = loan_df)"
      ],
      "execution_count": 26,
      "outputs": [
        {
          "output_type": "stream",
          "text": [
            "                 dti  loan_total\n",
            "dti         1.000000    0.029344\n",
            "loan_total  0.029344    1.000000\n"
          ],
          "name": "stdout"
        },
        {
          "output_type": "execute_result",
          "data": {
            "text/plain": [
              "<matplotlib.axes._subplots.AxesSubplot at 0x7fbb788b1c50>"
            ]
          },
          "metadata": {
            "tags": []
          },
          "execution_count": 26
        },
        {
          "output_type": "display_data",
          "data": {
            "image/png": "[encoded data removed]",
            "text/plain": [
              "<Figure size 432x288 with 1 Axes>"
            ]
          },
          "metadata": {
            "tags": [],
            "needs_background": "light"
          }
        }
      ]
    },
    {
      "cell_type": "code",
      "metadata": {
        "id": "DkxOq8y_t4w4",
        "colab_type": "code",
        "colab": {}
      },
      "source": [
        ""
      ],
      "execution_count": 0,
      "outputs": []
    }
  ]
}